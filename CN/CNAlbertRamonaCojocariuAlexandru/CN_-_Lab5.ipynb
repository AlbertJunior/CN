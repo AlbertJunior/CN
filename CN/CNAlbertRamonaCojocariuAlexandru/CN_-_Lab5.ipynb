{
 "cells": [
  {
   "cell_type": "code",
   "execution_count": 1,
   "metadata": {},
   "outputs": [],
   "source": [
    "import numpy as np\n",
    "import math\n",
    "import copy\n",
    "import PySimpleGUI as sg\n",
    "import sys"
   ]
  },
  {
   "cell_type": "code",
   "execution_count": 2,
   "metadata": {},
   "outputs": [],
   "source": [
    "optimized_flag = False\n",
    "file_name = \"input.txt\"\n",
    "epsilon = 10 ** (-8)"
   ]
  },
  {
   "cell_type": "code",
   "execution_count": 3,
   "metadata": {},
   "outputs": [],
   "source": [
    "def coord_to_array(a, i, j):\n",
    "    global optimized_flag\n",
    "    \n",
    "    if optimized_flag == False:\n",
    "        return a[i][j]\n",
    "    else:\n",
    "        if j > i:\n",
    "            aux = i\n",
    "            i = j\n",
    "            j = aux\n",
    "        return a[i*(i+1)//2 + j]"
   ]
  },
  {
   "cell_type": "code",
   "execution_count": 4,
   "metadata": {},
   "outputs": [],
   "source": [
    "def set_to_array(a, i, j, val):\n",
    "    global optimized_flag\n",
    "\n",
    "    if optimized_flag == False:\n",
    "        a[i][j] = val\n",
    "        a[j][i] = val\n",
    "    else:\n",
    "        if j > i:\n",
    "            aux = i\n",
    "            i = j\n",
    "            j = aux\n",
    "        a[i*(i+1)//2 + j] = val"
   ]
  },
  {
   "cell_type": "code",
   "execution_count": 5,
   "metadata": {},
   "outputs": [],
   "source": [
    "def set_to_array_nonsymmetric(a, i, j, val):\n",
    "    global optimized_flag\n",
    "\n",
    "    if optimized_flag == False:\n",
    "        a[i][j] = val\n",
    "    else:\n",
    "        if j > i:\n",
    "            aux = i\n",
    "            i = j\n",
    "            j = aux\n",
    "        a[i*(i+1)//2 + j] = val"
   ]
  },
  {
   "cell_type": "code",
   "execution_count": 6,
   "metadata": {},
   "outputs": [],
   "source": [
    "def set_to_array_l(a, i, j, val):\n",
    "    if j > i:\n",
    "        aux = i\n",
    "        i = j\n",
    "        j = aux\n",
    "    a[i*(i+1)//2 + j] = val"
   ]
  },
  {
   "cell_type": "code",
   "execution_count": 7,
   "metadata": {},
   "outputs": [],
   "source": [
    "def coord_to_array_l(l, i, j):\n",
    "    if j > i:\n",
    "        return 0\n",
    "    return l[i*(i+1)//2 + j]"
   ]
  },
  {
   "cell_type": "code",
   "execution_count": 8,
   "metadata": {},
   "outputs": [],
   "source": [
    "def read_input(a, n, p, non_sym):\n",
    "    global optimized_flag, file_name\n",
    "    file_read = open(file_name, \"r\")\n",
    "    n = int(file_read.readline())\n",
    "    p = int(file_read.readline())\n",
    "    \n",
    "    if non_sym == False and n != p:\n",
    "        return ([], 1, 2)\n",
    "    \n",
    "    if optimized_flag == True:\n",
    "        for i in range(0, p):\n",
    "            for j in range(0, n):\n",
    "                value = float(file_read.readline())\n",
    "                if i >= j:\n",
    "                    a = np.append(a, value)\n",
    "            \n",
    "    else:\n",
    "        a = np.zeros((p,n))\n",
    "        for i in range(0, p):\n",
    "            for j in range(0, n):\n",
    "                value = float(file_read.readline())\n",
    "                if non_sym == False:\n",
    "                    set_to_array(a, i, j, value)\n",
    "                else:\n",
    "                    set_to_array_nonsymmetric(a, i, j, value)\n",
    "    return (a,n,p)"
   ]
  },
  {
   "cell_type": "code",
   "execution_count": 9,
   "metadata": {},
   "outputs": [],
   "source": [
    "def initialize_u(u, n, length):\n",
    "    for i in range(0, n):\n",
    "        u[i][i] = 1\n",
    "    return u"
   ]
  },
  {
   "cell_type": "code",
   "execution_count": 10,
   "metadata": {},
   "outputs": [],
   "source": [
    "def compute_pq(a, n):\n",
    "    maxim = -1\n",
    "    for i in range(0, n):\n",
    "        for j in range(0, i):\n",
    "            if abs(coord_to_array(a, i,j)) > maxim:\n",
    "                maxim = abs(coord_to_array(a,i,j))\n",
    "                p = i\n",
    "                q = j\n",
    "    return (p,q)"
   ]
  },
  {
   "cell_type": "code",
   "execution_count": 11,
   "metadata": {},
   "outputs": [],
   "source": [
    "def compute_tcs(a, n, p, q):\n",
    "    alfa = (coord_to_array(a,p,p) - coord_to_array(a,q,q))/(2*coord_to_array(a,p,q))\n",
    "    if alfa >= 0:\n",
    "        t = -alfa + math.sqrt(alfa*alfa+1)\n",
    "    else:\n",
    "        t = -alfa - math.sqrt(alfa*alfa+1)\n",
    "    \n",
    "    c = 1 / math.sqrt(1 + t*t)\n",
    "    s = t / math.sqrt(1 + t*t)\n",
    "    \n",
    "    return(t,c,s)"
   ]
  },
  {
   "cell_type": "code",
   "execution_count": 12,
   "metadata": {},
   "outputs": [],
   "source": [
    "def next_matrix_a(a, n, p, q, t, c, s):    \n",
    "    for i in range(0, n):\n",
    "        if i != p and i != q:\n",
    "#             if p > i:\n",
    "            aux = coord_to_array(a,p,i)\n",
    "            set_to_array(a, p, i, c*coord_to_array(a,p,i) + s*coord_to_array(a,q,i))\n",
    "            set_to_array(a, q, i, -s*aux + c*coord_to_array(a,q,i))\n",
    "\n",
    "            \n",
    "    set_to_array(a, p, p, coord_to_array(a,p,p) + t*coord_to_array(a,p,q))\n",
    "    set_to_array(a, q, q, coord_to_array(a,q,q) - t*coord_to_array(a,p,q))\n",
    "    set_to_array(a, p, q, 0)\n",
    "    set_to_array(a, q, p, 0)\n",
    "\n",
    "    return a"
   ]
  },
  {
   "cell_type": "code",
   "execution_count": 13,
   "metadata": {},
   "outputs": [],
   "source": [
    "def next_matrix_u(u, n, p, q, t, c, s):\n",
    "    for i in range(0, n):\n",
    "        uip_vechi = copy.deepcopy(u[i][p])\n",
    "        u[i][p] = c * u[i][p] + s * u[i][q]\n",
    "        u[i][q] = -s * uip_vechi + c * u[i][q]\n",
    "    return u"
   ]
  },
  {
   "cell_type": "code",
   "execution_count": 14,
   "metadata": {},
   "outputs": [],
   "source": [
    "def get_error(a_init, n, vp, u):\n",
    "\n",
    "    error = 0\n",
    "    au = np.zeros((n,n))\n",
    "    uvp = np.zeros((n,n))\n",
    "    \n",
    "    for i in range(0,n):\n",
    "        for j in range(0,n):\n",
    "            value = 0\n",
    "            for t in range(0,n):\n",
    "                au[j][i] += coord_to_array(a_init,j,t) * u[t][i]\n",
    "\n",
    "    for i in range(0, n):\n",
    "        for j in range(0, n):\n",
    "            uvp[i][j] = u[i][j] * vp[j]\n",
    "            \n",
    "    for i in range(0,n):\n",
    "        for j in range(0,n):\n",
    "            error += abs(au[i][j] - uvp[i][j]) * abs(au[i][j] - uvp[i][j])\n",
    "            \n",
    "    error = math.sqrt(error)\n",
    "    return error"
   ]
  },
  {
   "cell_type": "code",
   "execution_count": 15,
   "metadata": {},
   "outputs": [],
   "source": [
    "def get_valori_proprii():\n",
    "    global optimized_flag, epsilon\n",
    "    n = -1\n",
    "    p1 = -1\n",
    "    k = 0\n",
    "    kmax = 10000\n",
    "    \n",
    "    a = np.array([])\n",
    "    (a,n,p1) = read_input(a,n,p1, False)\n",
    "    print(n, ' ', p1)\n",
    "    if n != p1:\n",
    "        return ([], [], [], [], \"Nu se poate aplica metoda Jacobi pentru o matrice cu linie != coloana\")\n",
    "    u = np.zeros((n,n))\n",
    "    a_init = copy.deepcopy(a)\n",
    "    length = len(a)\n",
    "    u = initialize_u(u, n, length)\n",
    "    (p,q) = compute_pq(a,n)\n",
    "    (t,c,s) = compute_tcs(a,n,p,q)\n",
    "    print(a)\n",
    "    while abs(coord_to_array(a,p,q)) > epsilon and k<kmax:\n",
    "        a = next_matrix_a(a, n, p, q, t, c, s)\n",
    "        u = next_matrix_u(u, n, p, q, t, c, s)\n",
    "        (p,q) = compute_pq(a,n)\n",
    "        (t,c,s) = compute_tcs(a,n,p,q)\n",
    "                \n",
    "        k = k+1\n",
    "\n",
    "#         valori_proprii = np.array([])\n",
    "#         for i in range(0, n):\n",
    "#             valori_proprii = np.append(valori_proprii, a[coord_to_array(i,i)])\n",
    "#         print(valori_proprii)\n",
    "\n",
    "    valori_proprii = np.array([])\n",
    "    for i in range(0, n):\n",
    "        valori_proprii = np.append(valori_proprii, coord_to_array(a,i,i))\n",
    "    \n",
    "    get_error(a_init, n, valori_proprii, u)\n",
    "    \n",
    "    return (a, a_init, u, valori_proprii, get_error(a_init, n, valori_proprii, u))\n",
    "\n"
   ]
  },
  {
   "cell_type": "code",
   "execution_count": 16,
   "metadata": {},
   "outputs": [],
   "source": [
    "def compute_l(a, n):\n",
    "    global optimized_flag\n",
    "    \n",
    "    l = np.array([])\n",
    "    for i in range(0, int(n*(n+1)/2)):\n",
    "        l = np.append(l, 0)\n",
    "\n",
    "                \n",
    "    for i in range(0, n):\n",
    "        compute_l_column_p(i, l, a, n)\n",
    "        \n",
    "    return l"
   ]
  },
  {
   "cell_type": "code",
   "execution_count": 17,
   "metadata": {},
   "outputs": [],
   "source": [
    "def compute_l_column_p(column, l, a, n):    \n",
    "    suma = 0\n",
    "    for i in range(0, column):\n",
    "        suma += coord_to_array_l(l,column,i) * coord_to_array_l(l,column,i)\n",
    "    if coord_to_array(a,column,column) - suma <= 0:\n",
    "        print('MATRICEA NU ESTE POZITIV DEFINITA!')\n",
    "        sys.exit()\n",
    "        \n",
    "\n",
    "    val = math.sqrt(coord_to_array(a,column,column) - suma)\n",
    "    set_to_array_l(l, column, column, val)\n",
    "    \n",
    "    \n",
    "    for i in range(column+1, n):\n",
    "        suma = 0\n",
    "        for j in range(0, column):\n",
    "            suma += coord_to_array_l(l,i,j) * coord_to_array_l(l,column, j)\n",
    "            \n",
    "        val = coord_to_array(a,i,column) - suma\n",
    "        val = val / coord_to_array_l(l,column,column)\n",
    "        set_to_array_l(l, i, column, val)\n"
   ]
  },
  {
   "cell_type": "code",
   "execution_count": 18,
   "metadata": {},
   "outputs": [],
   "source": [
    "def product_l(l,n):\n",
    "    global optimized_flag\n",
    "    \n",
    "    if optimized_flag == True:\n",
    "        new_a = np.array([])\n",
    "        for i in range(0, int(n*(n+1)/2)):\n",
    "            new_a = np.append(new_a, 0)\n",
    "    else:\n",
    "        new_a = np.zeros((n,n))\n",
    "                \n",
    "    for i in range(0,n):\n",
    "        for j in range(0,i+1):\n",
    "            suma = 0\n",
    "            for t in range(0,n):\n",
    "                suma += coord_to_array_l(l,t,j) * coord_to_array_l(l,t,i)\n",
    "            set_to_array(new_a, j, i, copy.deepcopy(suma))\n",
    "                \n",
    "    return new_a"
   ]
  },
  {
   "cell_type": "code",
   "execution_count": 19,
   "metadata": {},
   "outputs": [],
   "source": [
    "def cerinta2():\n",
    "    k = 0\n",
    "    n = -1\n",
    "    p = -1\n",
    "    kmax = 1000\n",
    "    epsilon = 10 ** (-12)\n",
    "    a = np.array([])\n",
    "    (a,n,p) = read_input(a,n,p, False)\n",
    "    if n != p:\n",
    "        return \"Nu se poate face o descompunere Cholesky pe o matrice cu linie != coloana\"\n",
    "    \n",
    "    l = compute_l(a, n)\n",
    "    a_next = product_l(l,n)\n",
    "    \n",
    "    while(compare_a(a, a_next, n) > epsilon and k < kmax):\n",
    "        a = copy.deepcopy(a_next)\n",
    "        l = compute_l(a, n)\n",
    "        a_next = product_l(l,n)\n",
    "        k += 1\n",
    "        \n",
    "    vp = np.array([])\n",
    "    for i in range(0, n):\n",
    "        vp = np.append(vp, coord_to_array(a_next, i, i))\n",
    "        \n",
    "    return vp    "
   ]
  },
  {
   "cell_type": "code",
   "execution_count": 20,
   "metadata": {},
   "outputs": [],
   "source": [
    "optimized_flag = True"
   ]
  },
  {
   "cell_type": "code",
   "execution_count": 20,
   "metadata": {},
   "outputs": [],
   "source": [
    "def compare_a(a1, a2, n):\n",
    "    error = 0\n",
    "    for i in range(0,n):\n",
    "        for j in range(0,n):\n",
    "            error += abs(coord_to_array(a1,i,j) - coord_to_array(a2,i,j))\n",
    "    \n",
    "    return math.sqrt(error)"
   ]
  },
  {
   "cell_type": "code",
   "execution_count": 21,
   "metadata": {},
   "outputs": [
    {
     "data": {
      "text/plain": [
       "'Valorile proprii sunt definite pentru matrici patratice'"
      ]
     },
     "execution_count": 21,
     "metadata": {},
     "output_type": "execute_result"
    }
   ],
   "source": [
    "def get_valori_singulare():\n",
    "    global optimized_flag\n",
    "    if optimized_flag == True:\n",
    "        return \"Nu se poate calcula cu Numpy pentru o memorare eficienta a matricei\"\n",
    "    n = -1\n",
    "    p1 = -1\n",
    "    a = np.array([])\n",
    "    (a,n,p1) = read_input(a,n,p1, True)\n",
    "    if n != p1:\n",
    "        return \"Valorile proprii sunt definite pentru matrici patratice\"\n",
    "        \n",
    "    return np.linalg.eigvals(a)\n",
    "    \n",
    "get_valori_singulare()"
   ]
  },
  {
   "cell_type": "code",
   "execution_count": 22,
   "metadata": {},
   "outputs": [
    {
     "data": {
      "text/plain": [
       "3"
      ]
     },
     "execution_count": 22,
     "metadata": {},
     "output_type": "execute_result"
    }
   ],
   "source": [
    "def get_rang_numpy():\n",
    "    global optimized_flag\n",
    "    if optimized_flag == True:\n",
    "        return \"Nu se poate calcula rangul cu Numpy pentru matrice memorata eficient\"\n",
    "    n = -1\n",
    "    p1 = -1\n",
    "    a = np.array([])\n",
    "    (a,n,p1) = read_input(a,n,p1, True)\n",
    "    return np.linalg.matrix_rank(a)\n",
    "\n",
    "get_rang_numpy()"
   ]
  },
  {
   "cell_type": "code",
   "execution_count": 23,
   "metadata": {},
   "outputs": [
    {
     "data": {
      "text/plain": [
       "3"
      ]
     },
     "execution_count": 23,
     "metadata": {},
     "output_type": "execute_result"
    }
   ],
   "source": [
    "def get_rang_formula():\n",
    "    global epsilon, optimized_flag\n",
    "    n = -1\n",
    "    p1 = -1\n",
    "    a = np.array([])\n",
    "    (a,n,p1) = read_input(a,n,p1, True)\n",
    "    if optimized_flag == True:\n",
    "        return \"Doar pentru metoda Jacobi se doreste memorare eficienta a matricei\"\n",
    "    if optimized_flag == True and n != p1:\n",
    "        return \"Matricea se doreste a fi memorata eficient dar linie != coloana\"\n",
    "    (u,s,v) = np.linalg.svd(a)\n",
    "    count = 0\n",
    "    if n <= p1:\n",
    "        min_dim = n\n",
    "    else:\n",
    "        min_dim = p1\n",
    "    for i in range(0, min_dim):\n",
    "        if s[i] > epsilon:\n",
    "            count += 1\n",
    "    return count\n",
    "\n",
    "get_rang_formula()"
   ]
  },
  {
   "cell_type": "code",
   "execution_count": 24,
   "metadata": {},
   "outputs": [
    {
     "data": {
      "text/plain": [
       "54.13783039363558"
      ]
     },
     "execution_count": 24,
     "metadata": {},
     "output_type": "execute_result"
    }
   ],
   "source": [
    "def get_numar_conditionare_numpy():\n",
    "    global epsilon, optimized_flag\n",
    "    if optimized_flag == True:\n",
    "        return \"Nu se poate calcula numarul de conditionare cu Numpy pentru matrice memorata eficient\"\n",
    "    n = -1\n",
    "    p1 = -1\n",
    "    a = np.array([])\n",
    "\n",
    "    (a,n,p1) = read_input(a,n,p1, True)\n",
    "    return np.linalg.cond(a)\n",
    "\n",
    "get_numar_conditionare_numpy()"
   ]
  },
  {
   "cell_type": "code",
   "execution_count": 25,
   "metadata": {},
   "outputs": [
    {
     "data": {
      "text/plain": [
       "54.13783039363558"
      ]
     },
     "execution_count": 25,
     "metadata": {},
     "output_type": "execute_result"
    }
   ],
   "source": [
    "def get_numar_conditionare_formula():\n",
    "    global optimized_flag\n",
    "    if optimized_flag == True:\n",
    "        return \"Nu se poate calcula numarul de conditionare cu Numpy pentru matrice memorata eficient\"\n",
    "    n = -1\n",
    "    p1 = -1\n",
    "    min_dim = -1\n",
    "    a = np.array([])\n",
    "    (a,n,p1) = read_input(a,n,p1, True)\n",
    "    (u,s,v) = np.linalg.svd(a)\n",
    "    \n",
    "    maxim = -1\n",
    "    minim = 999999999\n",
    "    if n <= p1:\n",
    "        min_dim = n\n",
    "    else:\n",
    "        min_dim = p1\n",
    "    for i in range(0,min_dim):\n",
    "        if s[i] > maxim:\n",
    "            maxim = s[i]\n",
    "        if s[i] < minim and s[i] > epsilon:\n",
    "            minim = s[i]\n",
    "            \n",
    "    return maxim/minim\n",
    "\n",
    "get_numar_conditionare_formula()"
   ]
  },
  {
   "cell_type": "code",
   "execution_count": 78,
   "metadata": {},
   "outputs": [
    {
     "data": {
      "text/plain": [
       "array([[ 0.72701733, -0.62234848,  0.22277247,  0.56293906],\n",
       "       [-0.44874681,  0.90442695, -0.41465283, -0.45964206],\n",
       "       [ 0.15103463, -0.41175417,  0.23829837,  0.18053948]])"
      ]
     },
     "execution_count": 78,
     "metadata": {},
     "output_type": "execute_result"
    }
   ],
   "source": [
    "def moore_penrose():\n",
    "    global optimized_flag\n",
    "    if optimized_flag == True:\n",
    "        return \"P >= N, deci nu poate fi memorata matricea eficient\"\n",
    "    epsilon = 10 ** (-8)\n",
    "    n = -1\n",
    "    p1 = -1\n",
    "    a = np.array([])\n",
    "    (a,n,p1) = read_input(a,n,p1, True)\n",
    "    (u, s, v) = np.linalg.svd(a)\n",
    "    \n",
    "    if p1 <= n:\n",
    "        coord_min = p1\n",
    "    else:\n",
    "        coord_min = n\n",
    "    \n",
    "    for i in range(0, coord_min):\n",
    "        if abs(s[i]) > epsilon:\n",
    "            s[i] = 1 / s[i]\n",
    "            \n",
    "    sinv = np.zeros((n,p1))\n",
    "    \n",
    "    for i in range(0, coord_min):\n",
    "        sinv[i][i] = s[i]\n",
    "    \n",
    "    return v.T.dot(sinv).dot(u.T)\n",
    "\n",
    "moore_penrose()"
   ]
  },
  {
   "cell_type": "code",
   "execution_count": 79,
   "metadata": {},
   "outputs": [
    {
     "data": {
      "text/plain": [
       "array([[ 0.72701733, -0.62234848,  0.22277247,  0.56293906],\n",
       "       [-0.44874681,  0.90442695, -0.41465283, -0.45964206],\n",
       "       [ 0.15103463, -0.41175417,  0.23829837,  0.18053948]])"
      ]
     },
     "execution_count": 79,
     "metadata": {},
     "output_type": "execute_result"
    }
   ],
   "source": [
    "def moore_penrose2():\n",
    "    global optimized_flag\n",
    "    if optimized_flag == True:\n",
    "        return \"P >= N, deci nu poate fi memorata matricea eficient\"\n",
    "    n = -1\n",
    "    p1 = -1\n",
    "    a = np.array([])\n",
    "    (a,n,p1) = read_input(a,n,p1, True)\n",
    "    \n",
    "    result = copy.deepcopy(np.transpose(a))\n",
    "    result = np.dot(result, a)\n",
    "    result = np.linalg.inv(result)\n",
    "    result = np.dot(result, np.transpose(a))\n",
    "    return result\n",
    "\n",
    "moore_penrose2()"
   ]
  },
  {
   "cell_type": "code",
   "execution_count": 28,
   "metadata": {},
   "outputs": [
    {
     "data": {
      "text/plain": [
       "2.0390647923058285e-07"
      ]
     },
     "execution_count": 28,
     "metadata": {},
     "output_type": "execute_result"
    }
   ],
   "source": [
    "def compare_inverses():\n",
    "    global optimized_flag\n",
    "    if optimized_flag == True:\n",
    "        return \"P >= N, deci nu poate fi memorata matricea eficient\"\n",
    "    n = -1\n",
    "    p1 = -1\n",
    "    a = np.array([])\n",
    "    (a,n,p1) = read_input(a,n,p1, True)\n",
    "    matrix1 = moore_penrose()\n",
    "    matrix2 = moore_penrose2()\n",
    "    error = 0\n",
    "    \n",
    "    for i in range(0, n):\n",
    "        for j in range(0, n):\n",
    "            error += abs(matrix1[i][j] - matrix2[i][j])\n",
    "    \n",
    "    return math.sqrt(error)\n",
    "\n",
    "compare_inverses()"
   ]
  },
  {
   "cell_type": "code",
   "execution_count": 80,
   "metadata": {},
   "outputs": [
    {
     "name": "stdout",
     "output_type": "stream",
     "text": [
      "1   2\n"
     ]
    }
   ],
   "source": [
    "def draw_interface():\n",
    "    global l, window, optimized_flag, epsilon\n",
    " \n",
    "\n",
    "    layout = [[sg.Text(\"Introduceti epsilon:\")], \n",
    "              [sg.In(size=(25, 1), enable_events=True, key=\"EPS\")],\n",
    "              [sg.Button(\"GATA\")],\n",
    "              \n",
    "              [sg.Button(\"Valori proprii cu metoda Jacobi\")],\n",
    "              [sg.Text(size=(100, 1), key=\"VPJACOBI\")],\n",
    "              \n",
    "              [sg.Button(\"Vectori proprii cu metoda Jacobi\")],\n",
    "              \n",
    "              [sg.Button(\"||A_init U − UΛ||.\")],\n",
    "              [sg.Text(size=(100, 1), key=\"EroareJACOBI\")],\n",
    "\n",
    "              [sg.Button(\"Valori proprii Cholesky\")],\n",
    "              [sg.Text(size=(100, 1), key=\"VPCHOLESKY\")],\n",
    "\n",
    "              [sg.Button(\"Valori proprii Numpy\")],\n",
    "              [sg.Text(size=(100, 1), key=\"VPNUMPY\")],\n",
    "              \n",
    "              [sg.Button(\"Rang formula\")],\n",
    "              [sg.Text(size=(100, 1), key=\"RF\")],\n",
    "        \n",
    "              [sg.Button(\"Rang Numpy\")],\n",
    "              [sg.Text(size=(100, 1), key=\"RN\")],\n",
    "        \n",
    "              [sg.Button(\"Numar conditionare formula\")],\n",
    "              [sg.Text(size=(100, 1), key=\"NCF\")],\n",
    "        \n",
    "              [sg.Button(\"Numar conditionare Numpy\")],\n",
    "              [sg.Text(size=(100, 1), key=\"NCN\")],\n",
    "              \n",
    "              [sg.Button(\"Eroare pseudoinversa Moore-Penrose\")],\n",
    "              [sg.Text(size=(100, 1), key=\"MP\")],\n",
    "\n",
    "              [sg.Button(\"EXIT\")]\n",
    "             ]\n",
    "    window = sg.Window(\"Calcul numeric - Laborator 5\", layout)\n",
    "\n",
    "    while True:\n",
    "        event, values = window.read()\n",
    "\n",
    "        if event == \"EXIT\":\n",
    "            break\n",
    "        elif event == \"Valori proprii cu metoda Jacobi\":\n",
    "            (a, a_init, u, vp, error) = get_valori_proprii()\n",
    "            if a == []:\n",
    "                window[\"VPJACOBI\"].update(error)\n",
    "            else:\n",
    "                window[\"VPJACOBI\"].update(vp)\n",
    "        elif event == \"Vectori proprii cu metoda Jacobi\":\n",
    "            (a, a_init, u, vp, error) = get_valori_proprii()\n",
    "            print(u)\n",
    "        elif event == \"||A_init U − UΛ||.\":\n",
    "            (a, a_init, u, vp, error) = get_valori_proprii()\n",
    "            window[\"EroareJACOBI\"].update(error)\n",
    "        elif event == \"Valori proprii Cholesky\":\n",
    "            window[\"VPCHOLESKY\"].update(cerinta2())\n",
    "        elif event == \"Valori proprii Numpy\":\n",
    "            print(get_valori_singulare())\n",
    "            window[\"VPNUMPY\"].update(get_valori_singulare())\n",
    "        elif event == \"Rang formula\":\n",
    "            window[\"RF\"].update(get_rang_formula())\n",
    "        elif event == \"Rang Numpy\":\n",
    "            window[\"RN\"].update(get_rang_numpy())\n",
    "        elif event == \"Numar conditionare formula\":\n",
    "            window[\"NCF\"].update(get_numar_conditionare_formula())\n",
    "        elif event == \"Numar conditionare Numpy\":\n",
    "            window[\"NCN\"].update(get_numar_conditionare_numpy())\n",
    "        elif event == \"Eroare pseudoinversa Moore-Penrose\":\n",
    "            window[\"MP\"].update(compare_inverses())\n",
    "        elif event == \"GATA\":\n",
    "            epsilon = float(values[\"EPS\"])\n",
    "\n",
    "    window.close()\n",
    "    \n",
    "draw_interface()"
   ]
  },
  {
   "cell_type": "code",
   "execution_count": 77,
   "metadata": {},
   "outputs": [],
   "source": [
    "file_name = \"input.txt\"\n",
    "optimized_flag = False"
   ]
  },
  {
   "cell_type": "code",
   "execution_count": 253,
   "metadata": {},
   "outputs": [],
   "source": [
    "file_name = \"input.txt\"\n",
    "optimized_flag = True"
   ]
  },
  {
   "cell_type": "code",
   "execution_count": 75,
   "metadata": {},
   "outputs": [],
   "source": [
    "file_name = \"input2.txt\"\n",
    "optimized_flag = False"
   ]
  },
  {
   "cell_type": "code",
   "execution_count": 36,
   "metadata": {},
   "outputs": [],
   "source": [
    "file_name = \"input2.txt\"\n",
    "optimized_flag = True"
   ]
  },
  {
   "cell_type": "code",
   "execution_count": 46,
   "metadata": {},
   "outputs": [],
   "source": [
    "file_name = \"input3.txt\"\n",
    "optimized_flag = False"
   ]
  },
  {
   "cell_type": "code",
   "execution_count": 50,
   "metadata": {},
   "outputs": [],
   "source": [
    "file_name = \"input4.txt\"\n",
    "optimized_flag = False"
   ]
  },
  {
   "cell_type": "code",
   "execution_count": 71,
   "metadata": {},
   "outputs": [],
   "source": [
    "file_name = \"input5.txt\"\n",
    "optimized_flag = True"
   ]
  },
  {
   "cell_type": "code",
   "execution_count": 73,
   "metadata": {},
   "outputs": [],
   "source": [
    "file_name = \"input5.txt\"\n",
    "optimized_flag = False"
   ]
  },
  {
   "cell_type": "code",
   "execution_count": null,
   "metadata": {},
   "outputs": [],
   "source": []
  }
 ],
 "metadata": {
  "kernelspec": {
   "display_name": "Python 3",
   "language": "python",
   "name": "python3"
  },
  "language_info": {
   "codemirror_mode": {
    "name": "ipython",
    "version": 3
   },
   "file_extension": ".py",
   "mimetype": "text/x-python",
   "name": "python",
   "nbconvert_exporter": "python",
   "pygments_lexer": "ipython3",
   "version": "3.7.6"
  }
 },
 "nbformat": 4,
 "nbformat_minor": 4
}
