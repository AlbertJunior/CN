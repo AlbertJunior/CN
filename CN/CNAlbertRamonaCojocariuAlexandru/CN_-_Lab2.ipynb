{
 "cells": [
  {
   "cell_type": "markdown",
   "metadata": {},
   "source": [
    "# 1. Citirea datelor de intrare"
   ]
  },
  {
   "cell_type": "code",
   "execution_count": 1,
   "metadata": {},
   "outputs": [],
   "source": [
    "import numpy as np\n",
    "import random\n",
    "import math\n",
    "import PySimpleGUI as sg\n",
    "import sys"
   ]
  },
  {
   "cell_type": "code",
   "execution_count": 68,
   "metadata": {
    "scrolled": false
   },
   "outputs": [
    {
     "name": "stdout",
     "output_type": "stream",
     "text": [
      "Dimensiunea matricei: 4\n",
      "4\n",
      "[4.36851811 8.41783954 7.62704202 7.01357556 4.67790092 4.8316406\n",
      " 7.09002417 8.69552172 4.64129625 1.3409594 ]\n",
      "[4.46229571 9.34639884 6.13824163 4.48339621]\n",
      "MATRICEA NU ESTE POZITIV DEFINITA!\n"
     ]
    },
    {
     "ename": "SystemExit",
     "evalue": "",
     "output_type": "error",
     "traceback": [
      "An exception has occurred, use %tb to see the full traceback.\n",
      "\u001b[1;31mSystemExit\u001b[0m\n"
     ]
    },
    {
     "name": "stderr",
     "output_type": "stream",
     "text": [
      "C:\\Users\\cojoc\\anaconda3\\lib\\site-packages\\IPython\\core\\interactiveshell.py:3339: UserWarning: To exit: use 'exit', 'quit', or Ctrl-D.\n",
      "  warn(\"To exit: use 'exit', 'quit', or Ctrl-D.\", stacklevel=1)\n"
     ]
    }
   ],
   "source": [
    "optimized_flag = True\n",
    "draw_interface()\n",
    "\n",
    "# input_type = input(\"Introduceti tipul inputului(tastatura/fisier/random)\")\n",
    "# if input_type == \"tastatura\":\n",
    "#     validation = read_stdin()\n",
    "# elif input_type == \"fisier\":\n",
    "#     validation = read_file()\n",
    "# elif input_type == \"random\":\n",
    "#     validation = input_random()\n",
    "# if validation == 1:\n",
    "#     draw_interface()"
   ]
  },
  {
   "cell_type": "code",
   "execution_count": 29,
   "metadata": {},
   "outputs": [],
   "source": [
    "a = 0\n",
    "b = 0\n",
    "n = 0\n",
    "l = 0"
   ]
  },
  {
   "cell_type": "code",
   "execution_count": 30,
   "metadata": {},
   "outputs": [],
   "source": [
    "def read_stdin():\n",
    "    global a, b, n, optimized_flag\n",
    "    n = input(\"Dimensiunea matricei: \")\n",
    "    n = int(n)\n",
    "    a_aux = np.array([])\n",
    "    val = 0\n",
    "    index = 0\n",
    "    negative_flag = 1\n",
    "    decimal_flag = 0\n",
    "    for i in range(0, n):\n",
    "        row = input()\n",
    "        for character in row:\n",
    "            if character == '-':\n",
    "                negative_flag = -1\n",
    "            elif character == '.':\n",
    "                decimal_flag = 1\n",
    "            else:\n",
    "                if index > 0 and index % n == 0:\n",
    "                    index += 1\n",
    "                    val = int(character)\n",
    "                elif character != ' ':\n",
    "                    if decimal_flag == 0:\n",
    "                        val = val*10 + int(character)\n",
    "                    else:\n",
    "                        val += (10**(-decimal_flag)) * int(character)\n",
    "                        decimal_flag += 1\n",
    "                else:\n",
    "                    a_aux = np.append(a_aux, val*negative_flag)\n",
    "                    negative_flag = 1\n",
    "                    decimal_flag = 0\n",
    "                    index += 1\n",
    "                    val = 0\n",
    "\n",
    "    for i in range(0, n):\n",
    "        for j in range(0, n):\n",
    "            if a_aux[i*n+j] != a_aux[j*n+i]:\n",
    "                print('Matricea nu este simetrica!')\n",
    "                return -1\n",
    "                \n",
    "    if optimized_flag == True:\n",
    "        a = np.array([])\n",
    "    else:\n",
    "        a = np.empty((0,n))\n",
    "    for i in range(0, n):\n",
    "        if optimized_flag == False:\n",
    "            row = np.array([[]])\n",
    "        for j in range(0, n):\n",
    "            if optimized_flag == False:\n",
    "                row = np.append(row, a_aux[i*n+j])\n",
    "            elif i >= j:\n",
    "                a = np.append(a, a_aux[i*n+j])\n",
    "        if optimized_flag == False:\n",
    "            a = np.append(a, [row], axis=0)\n",
    "        \n",
    "    print(a)\n",
    "                \n",
    "    val = 0\n",
    "    b = np.array([])\n",
    "    negative_flag = 1\n",
    "    decimal_flag = 0\n",
    "    row = input(\"Vectorul b:\")\n",
    "    for character in row:\n",
    "        if character == '-':\n",
    "            negative_flag = -1\n",
    "        elif character == '.':\n",
    "            decimal_flag = 1\n",
    "        elif character != ' ':\n",
    "            if decimal_flag == 0:\n",
    "                val = val*10 + int(character)\n",
    "            else:\n",
    "                val += (10**(-decimal_flag)) * int(character)\n",
    "                decimal_flag += 1\n",
    "        else:\n",
    "            b = np.append(b, val*negative_flag)\n",
    "            index += 1\n",
    "            val = 0\n",
    "            negative_flag = 1\n",
    "            decimal_flag = 0\n",
    "    b = np.append(b, val*negative_flag)\n",
    "    print(b)\n",
    "    return 1"
   ]
  },
  {
   "cell_type": "code",
   "execution_count": 31,
   "metadata": {},
   "outputs": [],
   "source": [
    "def read_file():\n",
    "    global a, b, n\n",
    "    file = open(\"input.txt\", \"r\")\n",
    "    file_content = file.read()\n",
    "    n = int(file_content[0])\n",
    "    a_aux = np.array([])\n",
    "    b = np.array([])\n",
    "    val = 0\n",
    "    index = 0\n",
    "    negative_flag = 1\n",
    "    decimal_flag = 0\n",
    "    \n",
    "    for character in file_content[2:]:\n",
    "        if character == '-':\n",
    "            negative_flag = -1\n",
    "        elif character == '.':\n",
    "            decimal_flag = 1\n",
    "        elif index > 0 and index % n == 0:\n",
    "            index += 1\n",
    "            val = int(character)\n",
    "        elif character != ' ' and character != '\\n':\n",
    "            if decimal_flag == 0:\n",
    "                val = val*10 + int(character)\n",
    "            else:\n",
    "                val += (10**(-decimal_flag)) * int(character)\n",
    "                decimal_flag += 1\n",
    "        else:\n",
    "            if len(a_aux) < n*n:\n",
    "                a_aux = np.append(a_aux, val*negative_flag)\n",
    "            else:\n",
    "                b = np.append(b, val*negative_flag)\n",
    "            index += 1\n",
    "            val = 0\n",
    "            negative_flag = 1\n",
    "            decimal_flag = 0\n",
    "    b = np.append(b, val*negative_flag)\n",
    "    \n",
    "    for i in range(0, n):\n",
    "        for j in range(0, n):\n",
    "            if a_aux[i*n+j] != a_aux[j*n+i]:\n",
    "                print('Matricea nu este simetrica!')\n",
    "                return -1\n",
    "                \n",
    "    if optimized_flag == True:\n",
    "        a = np.array([])\n",
    "    else:\n",
    "        a = np.empty((0,n))\n",
    "    for i in range(0, n):\n",
    "        if optimized_flag == False:\n",
    "            row = np.array([[]])\n",
    "        for j in range(0, n):\n",
    "            if optimized_flag == False:\n",
    "                row = np.append(row, a_aux[i*n+j])\n",
    "            elif i >= j:\n",
    "                a = np.append(a, a_aux[i*n+j])\n",
    "        if optimized_flag == False:\n",
    "            a = np.append(a, [row], axis=0)\n",
    "                \n",
    "    print(a)\n",
    "    print(b)\n",
    "    return 1"
   ]
  },
  {
   "cell_type": "code",
   "execution_count": 32,
   "metadata": {},
   "outputs": [],
   "source": [
    "def input_random():\n",
    "    global a, b, n, optimized_flag\n",
    "    n = input(\"Dimensiunea matricei: \")\n",
    "    n = int(n)\n",
    "    if optimized_flag == True:\n",
    "        a = np.array([])\n",
    "    else:\n",
    "        a = np.zeros((0,n))\n",
    "    b = np.array([])\n",
    "    if optimized_flag == True:\n",
    "        for i in range(0, n*(n+1)//2):\n",
    "            a = np.append(a, random.uniform(0, 10))\n",
    "    else:\n",
    "        for i in range(0, n):\n",
    "            row = np.array([[]])\n",
    "            for j in range(0, n):\n",
    "                row = np.append(row, random.uniform(0,10))\n",
    "            a = np.append(a, [row], axis=0)\n",
    "        for i in range(0, n):\n",
    "            for j in range(0, n):\n",
    "                if i >= j:\n",
    "                    a[i][j] = a[j][i]\n",
    "    for i in range(0, n):\n",
    "        b = np.append(b, random.uniform(0, 10))\n",
    "    print(n)\n",
    "    print(a)\n",
    "    print(b)\n",
    "    return 1"
   ]
  },
  {
   "cell_type": "markdown",
   "metadata": {},
   "source": [
    "# 2. Operatii pe matricea optimizata"
   ]
  },
  {
   "cell_type": "code",
   "execution_count": 33,
   "metadata": {},
   "outputs": [],
   "source": [
    "def matrix_at(matrix, i, j):\n",
    "    global optimized_flag\n",
    "    if optimized_flag == True:\n",
    "        if i >= j:\n",
    "            index = int((i*(i+1)/2) + j)\n",
    "            return matrix[index]\n",
    "        else:\n",
    "            index = int((j*(j+1)/2) + i)\n",
    "            return matrix[index]\n",
    "    else:\n",
    "        return matrix[i][j]"
   ]
  },
  {
   "cell_type": "code",
   "execution_count": 34,
   "metadata": {},
   "outputs": [],
   "source": [
    "def matrix_set(matrix, i, j, new_val):\n",
    "    global optimized_flag\n",
    "    if optimized_flag == True:\n",
    "        if i >= j:\n",
    "            index = int((i*(i+1)/2) + j)\n",
    "            matrix[index] = new_val\n",
    "        else:\n",
    "            index = int((j*(j+1)/2) + i)\n",
    "            matrix[index] = new_val\n",
    "    else:\n",
    "        matrix[i][j] = new_val"
   ]
  },
  {
   "cell_type": "code",
   "execution_count": 35,
   "metadata": {},
   "outputs": [],
   "source": [
    "def l_matrix_at(matrix, i, j):\n",
    "    global optimized_flag\n",
    "    if optimized_flag == True:\n",
    "        if i >= j:\n",
    "            index = int((i*(i+1)/2) + j)\n",
    "            return matrix[index]\n",
    "        else:\n",
    "            return 0\n",
    "    else:\n",
    "        return matrix[i][j]"
   ]
  },
  {
   "cell_type": "markdown",
   "metadata": {},
   "source": [
    "# 3. Descompunerea Cholesky"
   ]
  },
  {
   "cell_type": "code",
   "execution_count": 36,
   "metadata": {},
   "outputs": [],
   "source": [
    "def compute_l(a, b, n):\n",
    "    global optimized_flag, l\n",
    "    if optimized_flag == True:\n",
    "        l = np.array([])\n",
    "        for i in range(0, int(n*(n+1)/2)):\n",
    "            l = np.append(l, 0)\n",
    "    else:\n",
    "        l = np.empty((0,n))\n",
    "        for i in range(0, n):\n",
    "            row = np.array([[]])\n",
    "            for j in range(0, n):\n",
    "                row = np.append(row, 0)\n",
    "            l = np.append(l, [row], axis=0)\n",
    "    for i in range(0, n):\n",
    "        compute_l_column_p(i, l, a, b, n)\n",
    "        \n",
    "    print(l)\n",
    "    return l\n",
    "    "
   ]
  },
  {
   "cell_type": "code",
   "execution_count": 37,
   "metadata": {},
   "outputs": [],
   "source": [
    "def compute_l_string(a, b, n):\n",
    "    global optimized_flag, l\n",
    "    if optimized_flag == True:\n",
    "        l = np.array([])\n",
    "        for i in range(0, int(n*(n+1)/2)):\n",
    "            l = np.append(l, 0)\n",
    "    else:\n",
    "        l = np.empty((0,n))\n",
    "        for i in range(0, n):\n",
    "            row = np.array([[]])\n",
    "            for j in range(0, n):\n",
    "                row = np.append(row, 0)\n",
    "            l = np.append(l, [row], axis=0)\n",
    "    for i in range(0, n):\n",
    "        compute_l_column_p(i, l, a, b, n)\n",
    "        \n",
    "    final_string = ''\n",
    "    for i in range(0, n):\n",
    "        final_string += (np.array2string(l[i]) + ' ')\n",
    "    return final_string"
   ]
  },
  {
   "cell_type": "code",
   "execution_count": 38,
   "metadata": {},
   "outputs": [],
   "source": [
    "def compute_l_column_p(column, l, a, b, n):    \n",
    "    suma = 0\n",
    "    for i in range(0, column):\n",
    "        suma += l_matrix_at(l,column, i) * l_matrix_at(l,column, i)\n",
    "    if matrix_at(a, column, column) - suma <= 0:\n",
    "        print('MATRICEA NU ESTE POZITIV DEFINITA!')\n",
    "        window.close()\n",
    "        sys.exit()\n",
    "    val = math.sqrt(matrix_at(a, column, column) - suma)\n",
    "    matrix_set(l, column, column, val)\n",
    "    \n",
    "    \n",
    "    for i in range(column+1, n):\n",
    "        suma = 0\n",
    "        for j in range(0, column):\n",
    "            suma += l_matrix_at(l, i, j) * l_matrix_at(l, column, j)\n",
    "            \n",
    "        val = matrix_at(a, i, column) - suma\n",
    "        val = val / l_matrix_at(l, column, column)\n",
    "        matrix_set(l, i, column, val)"
   ]
  },
  {
   "cell_type": "code",
   "execution_count": 39,
   "metadata": {},
   "outputs": [],
   "source": [
    "def print_l(matrix):\n",
    "    global n\n",
    "    for i in range(0,n):\n",
    "        for j in range(0, n):\n",
    "            print(l_matrix_at(matrix,i,j), end = ' ')\n",
    "        print('')\n",
    "        \n",
    "print_l(l)"
   ]
  },
  {
   "cell_type": "code",
   "execution_count": null,
   "metadata": {},
   "outputs": [],
   "source": []
  },
  {
   "cell_type": "markdown",
   "metadata": {},
   "source": [
    "# 4. Det(A) = Det(L) * Det(LT) = Det(L)^2"
   ]
  },
  {
   "cell_type": "code",
   "execution_count": 40,
   "metadata": {},
   "outputs": [
    {
     "data": {
      "text/plain": [
       "1"
      ]
     },
     "execution_count": 40,
     "metadata": {},
     "output_type": "execute_result"
    }
   ],
   "source": [
    "def get_determinant(matrix):\n",
    "    determinant = 1\n",
    "    for i in range(0, n):\n",
    "        determinant *= l_matrix_at(matrix,i, i)\n",
    "        determinant *= l_matrix_at(matrix,i, i)\n",
    "    return determinant\n",
    "get_determinant(a)"
   ]
  },
  {
   "cell_type": "code",
   "execution_count": null,
   "metadata": {},
   "outputs": [],
   "source": []
  },
  {
   "cell_type": "markdown",
   "metadata": {},
   "source": [
    "# 5. Rezolvarea sistemului Ax = B"
   ]
  },
  {
   "cell_type": "markdown",
   "metadata": {},
   "source": [
    "# 5.1. Ly = B, unde L este inferior triunghiulara"
   ]
  },
  {
   "cell_type": "code",
   "execution_count": 41,
   "metadata": {},
   "outputs": [],
   "source": [
    "def get_y(l, n, b):\n",
    "    y = np.array([])\n",
    "    for i in range(0, n):\n",
    "        y = np.append(y, 0)\n",
    "    for i in range(0, n):\n",
    "        suma = 0\n",
    "        for j in range(0, i):\n",
    "            suma += (l_matrix_at(l,i,j) * y[j])\n",
    "        y[i] = (b[i] - suma) / l_matrix_at(l,i,i)\n",
    "    return y"
   ]
  },
  {
   "cell_type": "markdown",
   "metadata": {},
   "source": [
    "# 5.2. LT x = y, unde LT este superior triunghiulara "
   ]
  },
  {
   "cell_type": "code",
   "execution_count": 42,
   "metadata": {},
   "outputs": [],
   "source": [
    "def get_x(l, n, y):\n",
    "    x = np.array([])\n",
    "    for i in range(0, n):\n",
    "        x = np.append(x, 0)\n",
    "    for i in range(n-1, -1, -1):\n",
    "        suma = 0\n",
    "        for j in range(i+1, n):\n",
    "            suma += (l_matrix_at(l,j,i) * x[j])\n",
    "        x[i] = (y[i] - suma) / l_matrix_at(l,i,i)\n",
    "    return x"
   ]
  },
  {
   "cell_type": "code",
   "execution_count": 43,
   "metadata": {},
   "outputs": [],
   "source": [
    "x = get_x(l, n, get_y(l, n, b))"
   ]
  },
  {
   "cell_type": "markdown",
   "metadata": {},
   "source": [
    "# 6. Acuratetea solutiei"
   ]
  },
  {
   "cell_type": "code",
   "execution_count": 44,
   "metadata": {},
   "outputs": [
    {
     "data": {
      "text/plain": [
       "0.0"
      ]
     },
     "execution_count": 44,
     "metadata": {},
     "output_type": "execute_result"
    }
   ],
   "source": [
    "def print_error(a, n, x, b):\n",
    "    error = 0\n",
    "    for i in range(0, n):\n",
    "        suma = 0\n",
    "        for j in range(0, n):\n",
    "            suma += matrix_at(a, i, j) * x[j]\n",
    "        error += (abs(suma - b[i]) * abs(suma - b[i]))\n",
    "    return math.sqrt(error)\n",
    "\n",
    "print_error(a, n, x, b)"
   ]
  },
  {
   "cell_type": "markdown",
   "metadata": {},
   "source": [
    "# 7. Solutiile folosind biblioteci deja existente"
   ]
  },
  {
   "cell_type": "markdown",
   "metadata": {},
   "source": [
    "# 7.1. Descompunerea Cholesky (calculul lui L)"
   ]
  },
  {
   "cell_type": "code",
   "execution_count": 45,
   "metadata": {},
   "outputs": [],
   "source": [
    "def get_l_numpy(a, n, b):\n",
    "    complete_matrix = np.empty((0,n))\n",
    "    for i in range(0, n):\n",
    "        row = np.array([[]])\n",
    "        for j in range(0, n):\n",
    "            row = np.append(row, matrix_at(a,i,j))\n",
    "        complete_matrix = np.append(complete_matrix, [row], axis=0)\n",
    "    l_numpy = np.linalg.cholesky(complete_matrix)\n",
    "    return l_numpy\n"
   ]
  },
  {
   "cell_type": "code",
   "execution_count": 46,
   "metadata": {},
   "outputs": [],
   "source": [
    "def get_l_string(a, n, b):\n",
    "    final_string = ''\n",
    "    for i in range(0, n):\n",
    "        final_string += (np.array2string(get_l_numpy(a, n, b)[i]) + ' ')\n",
    "    return final_string"
   ]
  },
  {
   "cell_type": "markdown",
   "metadata": {},
   "source": [
    "# 7.2. Aflarea lui x din ecuatia liniara matriciala Ax = b"
   ]
  },
  {
   "cell_type": "code",
   "execution_count": 47,
   "metadata": {},
   "outputs": [],
   "source": [
    "def solve_linear_matrix_equation_numpy(a, n, b):\n",
    "    complete_matrix = np.empty((0,n))\n",
    "    for i in range(0, n):\n",
    "        row = np.array([[]])\n",
    "        for j in range(0, n):\n",
    "            row = np.append(row, matrix_at(a,i,j))\n",
    "        complete_matrix = np.append(complete_matrix, [row], axis=0)\n",
    "    x = np.linalg.solve(complete_matrix, b)\n",
    "    return x\n"
   ]
  },
  {
   "cell_type": "markdown",
   "metadata": {},
   "source": [
    "# 8. Aproximarea inversei matricei A"
   ]
  },
  {
   "cell_type": "markdown",
   "metadata": {},
   "source": [
    "# 8.1. Fara biblioteca"
   ]
  },
  {
   "cell_type": "code",
   "execution_count": 48,
   "metadata": {},
   "outputs": [],
   "source": [
    "def get_inverse_matrix(a, n):\n",
    "    global optimized_flag\n",
    "    complete_matrix = np.empty((0,n))\n",
    "    for i in range(0, n):\n",
    "        \n",
    "        b = np.array([])\n",
    "        for j in range(0, n):\n",
    "            if j == i:\n",
    "                b = np.append(b, 1)\n",
    "            else:\n",
    "                b = np.append(b, 0)\n",
    "                \n",
    "        y = get_y(l, n, b)\n",
    "        x = get_x(l, n, y)\n",
    "        complete_matrix = np.append(complete_matrix, [x], axis=0)\n",
    "\n",
    "    if optimized_flag == False:\n",
    "        return complete_matrix\n",
    "    partial_matrix = np.array([])\n",
    "    for i in range(0, n):\n",
    "        for j in range(0, n):\n",
    "            if i >= j:\n",
    "                partial_matrix = np.append(partial_matrix, complete_matrix[i][j])\n",
    "    return partial_matrix\n",
    "    "
   ]
  },
  {
   "cell_type": "code",
   "execution_count": 49,
   "metadata": {},
   "outputs": [],
   "source": [
    "def get_inverse_matrix_string(a, n):\n",
    "    global optimized_flag\n",
    "    complete_matrix = np.empty((0,n))\n",
    "    for i in range(0, n):\n",
    "        \n",
    "        b = np.array([])\n",
    "        for j in range(0, n):\n",
    "            if j == i:\n",
    "                b = np.append(b, 1)\n",
    "            else:\n",
    "                b = np.append(b, 0)\n",
    "                \n",
    "        y = get_y(l, n, b)\n",
    "        x = get_x(l, n, y)\n",
    "        complete_matrix = np.append(complete_matrix, [x], axis=0)\n",
    "\n",
    "    if optimized_flag == False:\n",
    "        final_string = ''\n",
    "        for i in range(0, n):\n",
    "            final_string += (np.array2string(complete_matrix[i]) + ' ')\n",
    "        return final_string\n",
    "                \n",
    "    partial_matrix = np.array([])\n",
    "    for i in range(0, n):\n",
    "        for j in range(0, n):\n",
    "            if i >= j:\n",
    "                partial_matrix = np.append(partial_matrix, complete_matrix[i][j])\n",
    "    return partial_matrix"
   ]
  },
  {
   "cell_type": "markdown",
   "metadata": {},
   "source": [
    "# 8.2. Cu Numpy"
   ]
  },
  {
   "cell_type": "code",
   "execution_count": 50,
   "metadata": {},
   "outputs": [],
   "source": [
    "def get_inverse_matrix_numpy(a, n):\n",
    "    complete_matrix = np.empty((0,n))\n",
    "    for i in range(0, n):\n",
    "        row = np.array([[]])\n",
    "        for j in range(0, n):\n",
    "            row = np.append(row, matrix_at(a,i,j))\n",
    "        complete_matrix = np.append(complete_matrix, [row], axis=0)\n",
    "    return np.linalg.inv(complete_matrix)\n"
   ]
  },
  {
   "cell_type": "code",
   "execution_count": 51,
   "metadata": {},
   "outputs": [],
   "source": [
    "def get_inverse_as_string(a, n):\n",
    "    final_string = ''\n",
    "    for i in range(0, n):\n",
    "        final_string += (np.array2string(get_inverse_matrix_numpy(a,n)[i]) + ' ')\n",
    "    return final_string"
   ]
  },
  {
   "cell_type": "markdown",
   "metadata": {},
   "source": [
    "# 8.3 Comparatie"
   ]
  },
  {
   "cell_type": "code",
   "execution_count": 52,
   "metadata": {},
   "outputs": [],
   "source": [
    "inv = get_inverse_matrix(a, n)\n",
    "inv2 = get_inverse_matrix_numpy(a, n)\n",
    "\n",
    "def compare_matrices(a, b):\n",
    "    complete_matrix = np.empty((0,n))\n",
    "    for i in range(0, n):\n",
    "        row = np.array([[]])\n",
    "        for j in range(0, n):\n",
    "            row = np.append(row, matrix_at(a,i,j))\n",
    "        complete_matrix = np.append(complete_matrix, [row], axis=0)\n",
    "        \n",
    "    return np.linalg.norm(complete_matrix - b)\n"
   ]
  },
  {
   "cell_type": "markdown",
   "metadata": {},
   "source": [
    "# Interfata grafica"
   ]
  },
  {
   "cell_type": "code",
   "execution_count": 27,
   "metadata": {},
   "outputs": [],
   "source": [
    "def draw_interface():\n",
    "    global l, window, optimized_flag\n",
    "    layout = [[sg.Button(\"TASTATURA\")],\n",
    "              [sg.Button(\"FISIER INPUT.TXT\")],\n",
    "              [sg.Button(\"RANDOM\")],\n",
    "        \n",
    "            [sg.Button(\"OBTINE L DIN DESCOMPUNEREA CHOLESKY\")],\n",
    "              [sg.Text(size=(100, 1), key=\"L\")],\n",
    "              \n",
    "              [sg.Button(\"OBTINE L DIN DESCOMPUNEREA CHOLESKY CU BIBLIOTECA NUMPY\")],\n",
    "              [sg.Text(size=(100, 1), key=\"LNUMPY\")],\n",
    "\n",
    "              [sg.Button(\"OBTINE DETERMINANTUL\")],\n",
    "              [sg.Text(size=(100, 1), key=\"DET\")],\n",
    "\n",
    "              [sg.Button(\"CALCULEAZA x DIN Ax = B\")],\n",
    "              [sg.Text(size=(100, 1), key=\"X\")],\n",
    "              \n",
    "              [sg.Button(\"CALCULEAZA x DIN Ax = B CU BIBLIOTECA NUMPY\")],\n",
    "              [sg.Text(size=(100, 1), key=\"XNUMPY\")],\n",
    "              \n",
    "              [sg.Button(\"OBTINE ACURATETEA SOLUTIEI FATA DE CEA CU NUMPY\")],\n",
    "              [sg.Text(size=(100, 1), key=\"ACC\")],\n",
    "\n",
    "              [sg.Button(\"CALCULEAZA INVERSA\")],\n",
    "              [sg.Text(size=(100, 1), key=\"INV\")],\n",
    "              \n",
    "              [sg.Button(\"CALCULEAZA INVERSA CU NUMPY\")],\n",
    "              [sg.Text(size=(100, 1), key=\"INVNUMPY\")],\n",
    "              \n",
    "              [sg.Button(\"OBTINE ACURATETEA INVERSELOR\")],\n",
    "              [sg.Text(size=(100, 1), key=\"ACCINV\")],\n",
    "\n",
    "              [sg.Button(\"EXIT\")]\n",
    "             ]\n",
    "    window = sg.Window(\"Calcul numeric - Laborator 2\", layout)\n",
    "\n",
    "    while True:\n",
    "        event, values = window.read()\n",
    "\n",
    "        if event == \"EXIT\":\n",
    "            break\n",
    "        elif event == \"TASTATURA\":\n",
    "            validation = read_stdin()\n",
    "        elif event == \"FISIER INPUT.TXT\":\n",
    "            validation = read_file()\n",
    "        elif event == \"RANDOM\":\n",
    "            validation = input_random()\n",
    "        elif event == \"OBTINE L DIN DESCOMPUNEREA CHOLESKY\":\n",
    "            if optimized_flag == False:\n",
    "                window[\"L\"].update(compute_l_string(a, b, n))\n",
    "            else:\n",
    "                window[\"L\"].update(compute_l(a, b, n))\n",
    "            l = compute_l(a, b, n)\n",
    "        elif event == \"OBTINE L DIN DESCOMPUNEREA CHOLESKY CU BIBLIOTECA NUMPY\":\n",
    "            window[\"LNUMPY\"].update(get_l_string(a, n, b))\n",
    "        elif event == \"OBTINE DETERMINANTUL\":\n",
    "            window[\"DET\"].update(get_determinant(l))\n",
    "        elif event == \"CALCULEAZA x DIN Ax = B\":\n",
    "            window[\"X\"].update(get_x(l, n, get_y(l, n, b)))\n",
    "        elif event == \"CALCULEAZA x DIN Ax = B CU BIBLIOTECA NUMPY\":\n",
    "            window[\"XNUMPY\"].update(np.array2string(solve_linear_matrix_equation_numpy(a, n, b)))\n",
    "        elif event == \"CALCULEAZA INVERSA\":\n",
    "            window[\"INV\"].update(get_inverse_matrix_string(a,n))\n",
    "        elif event == \"CALCULEAZA INVERSA CU NUMPY\":\n",
    "            window[\"INVNUMPY\"].update(get_inverse_as_string(a, n))\n",
    "        elif event == \"OBTINE ACURATETEA SOLUTIEI FATA DE CEA CU NUMPY\":\n",
    "            window[\"ACC\"].update(print_error(a, n, get_x(l, n, get_y(l, n, b)), b))\n",
    "        elif event == \"OBTINE ACURATETEA INVERSELOR\":\n",
    "            window[\"ACCINV\"].update(compare_matrices(get_inverse_matrix(a, n), get_inverse_matrix_numpy(a, n)))\n",
    "    \n",
    "        if validation == -1:\n",
    "            window.close()\n",
    "            sys.exit()\n",
    "    window.close()"
   ]
  },
  {
   "cell_type": "code",
   "execution_count": 44,
   "metadata": {},
   "outputs": [
    {
     "name": "stdout",
     "output_type": "stream",
     "text": [
      "Introduceti tipul inputului(tastatura/fisier)fisier\n",
      "[ 2.25    3.      9.0625  3.     13.     24.    ]\n",
      "[ 9.     35.0625 61.    ]\n"
     ]
    }
   ],
   "source": []
  }
 ],
 "metadata": {
  "kernelspec": {
   "display_name": "Python 3",
   "language": "python",
   "name": "python3"
  },
  "language_info": {
   "codemirror_mode": {
    "name": "ipython",
    "version": 3
   },
   "file_extension": ".py",
   "mimetype": "text/x-python",
   "name": "python",
   "nbconvert_exporter": "python",
   "pygments_lexer": "ipython3",
   "version": "3.7.6"
  }
 },
 "nbformat": 4,
 "nbformat_minor": 4
}
