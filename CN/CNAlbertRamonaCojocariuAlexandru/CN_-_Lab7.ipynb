{
 "cells": [
  {
   "cell_type": "code",
   "execution_count": 1,
   "metadata": {},
   "outputs": [],
   "source": [
    "import numpy as np\n",
    "import random\n",
    "import math\n",
    "import copy\n",
    "import PySimpleGUI as sg"
   ]
  },
  {
   "cell_type": "code",
   "execution_count": 14,
   "metadata": {},
   "outputs": [],
   "source": [
    "epsilon = 10 ** (-8)"
   ]
  },
  {
   "cell_type": "code",
   "execution_count": 15,
   "metadata": {},
   "outputs": [],
   "source": [
    "def cmmdc_nr(a, b):\n",
    "    if a%b == 0:\n",
    "        return b\n",
    "    return cmmdc_nr(b, a%b)"
   ]
  },
  {
   "cell_type": "code",
   "execution_count": 16,
   "metadata": {},
   "outputs": [],
   "source": [
    "def read_input():\n",
    "    global file_name\n",
    "    file_read = open(file_name, \"r\")\n",
    "    n = int(file_read.readline())\n",
    "    a = np.array([])\n",
    "    for i in range(0, n+1):\n",
    "        value = float(file_read.readline())\n",
    "        a = np.append(a, value)\n",
    "    return (a, n)"
   ]
  },
  {
   "cell_type": "code",
   "execution_count": 17,
   "metadata": {},
   "outputs": [],
   "source": [
    "def derivative(a, n):\n",
    "    derivative = np.array([])\n",
    "    for i in range(1, n+1):\n",
    "        value = i * a[i]\n",
    "        derivative = np.append(derivative, value)\n",
    "    return derivative"
   ]
  },
  {
   "cell_type": "code",
   "execution_count": 18,
   "metadata": {},
   "outputs": [],
   "source": [
    "def double_derivative(a,n):\n",
    "    deriv = np.array([])\n",
    "    double_deriv = np.array([])\n",
    "    \n",
    "    deriv = derivative(a,n)\n",
    "    double_deriv = derivative(deriv, n-1)\n",
    "    return double_deriv"
   ]
  },
  {
   "cell_type": "code",
   "execution_count": 19,
   "metadata": {},
   "outputs": [],
   "source": [
    "def horner(a, n, x):\n",
    "    value = a[n]\n",
    "    for i in range(n-1, -1, -1):\n",
    "        value = a[i] + value * x\n",
    "    return value"
   ]
  },
  {
   "cell_type": "code",
   "execution_count": 20,
   "metadata": {},
   "outputs": [],
   "source": [
    "def metoda_olver(a, n, starting_points):\n",
    "    global epsilon\n",
    "    nrmax = -1\n",
    "    for i in range(1, n+1):\n",
    "        if abs(a[i]) > nrmax:\n",
    "            nrmax = abs(a[i])\n",
    "    r = (abs(a[0]) + nrmax) / a[0]\n",
    "    radacini = np.array([])\n",
    "    \n",
    "    for counter in range(0, starting_points):\n",
    "        x = random.uniform(-r, r)\n",
    "        k = 0\n",
    "        kmax = 10000\n",
    "\n",
    "        while (1):\n",
    "            if abs(horner(derivative(a,n), n-1, x)) <= epsilon:\n",
    "                break\n",
    "\n",
    "            ck = (horner(a,n,x)**2)*(horner(double_derivative(a,n),n-2,x))/(horner(derivative(a,n),n-1,x)**3)\n",
    "            delta_x =  horner(a,n,x) / horner(derivative(a,n),n-1,x) + 1/2*ck\n",
    "            x = x - delta_x\n",
    "            k = k + 1\n",
    "\n",
    "            if abs(delta_x) < epsilon or k > kmax or abs(delta_x) > 10**8:\n",
    "                break\n",
    "                \n",
    "        if abs(delta_x) < epsilon:\n",
    "            already_in = False\n",
    "            for i in radacini:\n",
    "                if abs(i - x) < epsilon:\n",
    "                    already_in = True\n",
    "                    break\n",
    "            if already_in == False:\n",
    "                radacini = np.append(radacini,x)\n",
    "    return radacini"
   ]
  },
  {
   "cell_type": "code",
   "execution_count": 21,
   "metadata": {},
   "outputs": [],
   "source": [
    "def cat_rest_imp(a, b):\n",
    "    global epsilon\n",
    "    \n",
    "    a1 = copy.deepcopy(a)\n",
    "    b1 = copy.deepcopy(b)\n",
    "    \n",
    "    cat = np.array([])\n",
    "    rest = np.array([])\n",
    "    na = len(a1) - 1\n",
    "    nb = len(b1) - 1\n",
    "\n",
    "    while(1):\n",
    "        grada = -1\n",
    "        for i in range(0, na+1):\n",
    "            if abs(a1[i]) > epsilon:\n",
    "                grada = i\n",
    "        gradb = -1\n",
    "        for i in range(0, nb+1):\n",
    "            if abs(b1[i]) > epsilon:\n",
    "                gradb = i\n",
    "                \n",
    "        coef = a1[grada] / b1[gradb]\n",
    "\n",
    "        \n",
    "        for i in range(0, nb+1):\n",
    "            b1[i] = b1[i] * coef\n",
    "\n",
    "        cat = np.append(cat, coef)\n",
    "        for i in range(0, gradb+1):\n",
    "            a1[grada-i] -= b1[gradb-i]\n",
    "                    \n",
    "        \n",
    "        for i in range(0, nb+1):\n",
    "            b1[i] /= coef\n",
    "                            \n",
    "        grad = -1\n",
    "        for i in range(0, na+1):\n",
    "            if abs(a1[i]) > epsilon:\n",
    "                grad = i\n",
    "        if grad == -1:\n",
    "            break\n",
    "        if grad < nb:\n",
    "            rest = a1\n",
    "            break\n",
    "            \n",
    "    for i in range(0, len(rest)):\n",
    "        if abs(rest[i]) < epsilon:\n",
    "            rest[i] = 0.0\n",
    "    rest = np.trim_zeros(rest)\n",
    "    if len(rest) == 0:\n",
    "        rest = np.array([0.0])\n",
    "    a = a1\n",
    "    b = b1\n",
    "    return (np.flip(cat), rest)"
   ]
  },
  {
   "cell_type": "code",
   "execution_count": 22,
   "metadata": {},
   "outputs": [],
   "source": [
    "def cmmdc_polinom(a, b):\n",
    "    global epsilon\n",
    "    (cat, rest) = cat_rest_imp(a, b)\n",
    "    if len(rest) == 1 and abs(rest[0]) < epsilon:\n",
    "        cmmdc = b[0]\n",
    "        for i in range(1, len(b)):\n",
    "            cmmdc = cmmdc_nr(cmmdc, b[0])\n",
    "        for i in range(0, len(b)):\n",
    "            b[i] = b[i] / cmmdc\n",
    "        return b\n",
    "    return cmmdc_polinom(b, rest)"
   ]
  },
  {
   "cell_type": "code",
   "execution_count": 23,
   "metadata": {},
   "outputs": [],
   "source": [
    "def draw_interface():\n",
    "    global epsilon, file_name\n",
    "     \n",
    "    numar_puncte = 50\n",
    "    epsilon = 10 ** (-8)\n",
    "\n",
    "    layout = [[sg.Text(\"Introduceti epsilon:\")], \n",
    "              [sg.In(size=(25, 1), enable_events=True, key=\"EPS\")],\n",
    "              [sg.Button(\"GATA\")],\n",
    "              [sg.Text(\"Introduceti numarul de puncte din care sa se porneasca:\")], \n",
    "              [sg.In(size=(25, 1), enable_events=True, key=\"PUNCTE\")],\n",
    "              [sg.Button(\"OK\")],\n",
    "              \n",
    "              [sg.Button(\"INPUT1.TXT\")],\n",
    "              [sg.Button(\"INPUT2.TXT\")],\n",
    "              [sg.Button(\"INPUT3.TXT\")],\n",
    "              [sg.Button(\"INPUT4.TXT\")],\n",
    "              \n",
    "              [sg.Button(\"Aflare radacini\")],\n",
    "              [sg.Text(size=(100, 1), key=\"RADACINI\")],\n",
    "              [sg.Button(\"Aflare coeficienti polinom\")],\n",
    "              [sg.Text(size=(100, 1), key=\"POL\")],\n",
    "              [sg.Button(\"Transformare polinom\")],\n",
    "              [sg.Text(size=(100, 1), key=\"TRANSPOL\")],\n",
    "\n",
    "              [sg.Button(\"EXIT\")]\n",
    "             ]\n",
    "    window = sg.Window(\"Calcul numeric - Laborator 5\", layout)\n",
    "\n",
    "    while True:\n",
    "        event, values = window.read()\n",
    "\n",
    "        if event == \"EXIT\":\n",
    "            break\n",
    "        elif event == \"GATA\":\n",
    "            epsilon = float(values[\"EPS\"])\n",
    "        elif event == \"OK\":\n",
    "            numar_puncte = int(values[\"PUNCTE\"])\n",
    "        elif event == \"INPUT1.TXT\":\n",
    "            file_name = \"input1.txt\"\n",
    "            (a, n) = read_input()\n",
    "        elif event == \"INPUT2.TXT\":\n",
    "            file_name = \"input2.txt\"\n",
    "            (a, n) = read_input()\n",
    "        elif event == \"INPUT3.TXT\":\n",
    "            file_name = \"input3.txt\"\n",
    "            (a, n) = read_input()\n",
    "        elif event == \"INPUT4.TXT\":\n",
    "            file_name = \"input4.txt\"\n",
    "            (a, n) = read_input()\n",
    "        elif event == \"Aflare radacini\":\n",
    "            window[\"RADACINI\"].update(metoda_olver(a,n,numar_puncte))\n",
    "        elif event == \"Aflare coeficienti polinom\":\n",
    "            window[\"POL\"].update(a)\n",
    "        elif event == \"Transformare polinom\":\n",
    "            cmmdc_a = cmmdc_polinom(a, derivative(a,n))\n",
    "            (cat, rest) = cat_rest_imp(a, cmmdc_a)\n",
    "            a = cat\n",
    "            n = len(a) - 1\n",
    "            window[\"TRANSPOL\"].update(a)\n",
    "    window.close()\n",
    "    \n",
    "draw_interface()"
   ]
  },
  {
   "cell_type": "code",
   "execution_count": 31,
   "metadata": {},
   "outputs": [
    {
     "name": "stdout",
     "output_type": "stream",
     "text": [
      "[1.00000001 0.99999998 2.00000004 2.00000007 1.99999998 2.00000003\n",
      " 2.00000001 1.00000003 0.99999996 0.99999999 2.00000006 1.99999999]\n",
      "[1. 2.]\n"
     ]
    }
   ],
   "source": [
    "file_name = \"input4.txt\"\n",
    "(a, n) = read_input()\n",
    "print(metoda_olver(a,n,50))\n",
    "cmmdc_a = cmmdc_polinom(a, derivative(a,n))\n",
    "(cat, rest) = cat_rest_imp(a, cmmdc_a)\n",
    "a = cat\n",
    "n = len(a) - 1\n",
    "print(metoda_olver(a,n,50))\n",
    "np.savetxt(\"output.txt\", metoda_olver(a,n,50))"
   ]
  },
  {
   "cell_type": "code",
   "execution_count": 113,
   "metadata": {},
   "outputs": [
    {
     "name": "stdout",
     "output_type": "stream",
     "text": [
      "[ 1.49999997 -0.99999996  0.66666681  0.14285698]\n"
     ]
    }
   ],
   "source": [
    "file_name = \"input2.txt\"\n",
    "(a, n) = read_input()\n",
    "print(metoda_olver(a,n,50))\n",
    "np.savetxt(\"output.txt\", metoda_olver(a,n,50))"
   ]
  },
  {
   "cell_type": "code",
   "execution_count": 112,
   "metadata": {},
   "outputs": [
    {
     "data": {
      "text/plain": [
       "1.497354492063785e-07"
      ]
     },
     "execution_count": 112,
     "metadata": {},
     "output_type": "execute_result"
    }
   ],
   "source": [
    "file_name = \"input2.txt\"\n",
    "(a, n) = read_input()\n",
    "horner(a,n,0.6666666)"
   ]
  },
  {
   "cell_type": "code",
   "execution_count": 14,
   "metadata": {},
   "outputs": [
    {
     "name": "stdout",
     "output_type": "stream",
     "text": [
      "[1 1]\n"
     ]
    }
   ],
   "source": [
    "a = np.array([6, 7, 1])\n",
    "b = np.array([-6,-5,1])\n",
    "print(cmmdc_polinom(a,b))"
   ]
  },
  {
   "cell_type": "code",
   "execution_count": null,
   "metadata": {},
   "outputs": [],
   "source": []
  }
 ],
 "metadata": {
  "kernelspec": {
   "display_name": "Python 3",
   "language": "python",
   "name": "python3"
  },
  "language_info": {
   "codemirror_mode": {
    "name": "ipython",
    "version": 3
   },
   "file_extension": ".py",
   "mimetype": "text/x-python",
   "name": "python",
   "nbconvert_exporter": "python",
   "pygments_lexer": "ipython3",
   "version": "3.7.6"
  }
 },
 "nbformat": 4,
 "nbformat_minor": 4
}
