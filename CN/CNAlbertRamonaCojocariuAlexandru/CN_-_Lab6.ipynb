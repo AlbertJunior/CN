{
 "cells": [
  {
   "cell_type": "code",
   "execution_count": 1,
   "metadata": {},
   "outputs": [],
   "source": [
    "\n",
    "def citire_fisier(fileName):\n",
    "    a = 0\n",
    "    b = 0\n",
    "    with open(fileName) as f:\n",
    "        lines = f.readlines()\n",
    "        line = lines[0][:-1]\n",
    "        a = float(line)\n",
    "        \n",
    "        line = lines[1][:-1]\n",
    "        b = float(line)\n",
    "    return a, b\n",
    "\n",
    "def citire_tastatura():\n",
    "    a = input()\n",
    "    b = input()\n",
    "    a = float(a)\n",
    "    b = float(b)\n",
    "    \n",
    "    return a, b"
   ]
  },
  {
   "cell_type": "code",
   "execution_count": 2,
   "metadata": {},
   "outputs": [],
   "source": [
    "a, b = citire_fisier(\"input.txt\")\n",
    "# a, b = citire_tastatura()\n",
    "a"
   ]
  },
  {
   "cell_type": "code",
   "execution_count": 3,
   "metadata": {},
   "outputs": [],
   "source": [
    "import math\n",
    "\n",
    "def f1(x):\n",
    "    return x*x - 12 * x + 30\n",
    "def f1_derivata(x):\n",
    "    return 2*x - 12\n",
    "\n",
    "def f2(x):\n",
    "    return math.sin(x) - math.cos(x)\n",
    "def f2_derivata(x):\n",
    "    return math.sin(x) + math.cos(x)\n",
    "\n",
    "def f3(x):\n",
    "    return 2 * x * x * x - 3 * x + 15\n",
    "def f3_derivata(x):\n",
    "    return 6*x*x - 3"
   ]
  },
  {
   "cell_type": "code",
   "execution_count": 4,
   "metadata": {},
   "outputs": [],
   "source": [
    "import numpy as np\n",
    "import random\n",
    "\n",
    "\n",
    "\n",
    "def generare_x(n, a, b):\n",
    "    #2X2 random float\n",
    "    random_float_array = np.random.uniform(a, b, size=(n-2))\n",
    "#     print(random_float_array)\n",
    "    random_float_array.sort()\n",
    "    x = []\n",
    "    x.append(a)\n",
    "    for elem in random_float_array:\n",
    "        x.append(elem)\n",
    "    x.append(b)\n",
    "    return x\n",
    "\n",
    "def generare_y(x, function):\n",
    "    y = []\n",
    "    for elem in x:\n",
    "        y.append (function(elem))\n",
    "    return y\n",
    "    \n",
    "    "
   ]
  },
  {
   "cell_type": "code",
   "execution_count": null,
   "metadata": {},
   "outputs": [],
   "source": []
  },
  {
   "cell_type": "code",
   "execution_count": 5,
   "metadata": {},
   "outputs": [],
   "source": [
    "def createBmm(x, m):\n",
    "    n = len(x)\n",
    "    Bmm = np.empty([m+1 ,m+1])\n",
    "    for power in range(2*m + 1):\n",
    "        suma = 0\n",
    "        for i in range(n):\n",
    "            suma += x[i] ** power\n",
    "        \n",
    "        if power <= m:\n",
    "            inc = 0\n",
    "        else:\n",
    "            inc = power - m\n",
    "        j = min(m, power)\n",
    "        \n",
    "        while j >= 0 and inc < m+1:\n",
    "            Bmm[inc,j] = suma\n",
    "            j-=1\n",
    "            inc+=1\n",
    "    \n",
    "    return Bmm\n",
    "\n",
    "def createFm(x, y, m):\n",
    "    n = len(x)\n",
    "    fm = []    \n",
    "    for power in range(m+1):\n",
    "        suma = 0\n",
    "        for i in range(n):\n",
    "            suma += y[i] * (x[i] ** power)\n",
    "        fm.append(suma)\n",
    "    return np.array(fm)\n",
    "\n"
   ]
  },
  {
   "cell_type": "code",
   "execution_count": null,
   "metadata": {},
   "outputs": [],
   "source": []
  },
  {
   "cell_type": "code",
   "execution_count": 6,
   "metadata": {},
   "outputs": [],
   "source": [
    "def metodaHorner(a, v, n):\n",
    "    b0 = a[n]\n",
    "    \n",
    "    for i in range(n-1, -1, -1):\n",
    "        b0 = a[i] + b0 * v\n",
    "        \n",
    "    return b0"
   ]
  },
  {
   "cell_type": "code",
   "execution_count": null,
   "metadata": {},
   "outputs": [],
   "source": []
  },
  {
   "cell_type": "code",
   "execution_count": 7,
   "metadata": {},
   "outputs": [],
   "source": [
    "def splinePatratice(xn, yn, x0, da):\n",
    "    a0 = da\n",
    "    n = len(xn)\n",
    "    for i in range(n):\n",
    "        \n",
    "        hi = xn[i+1] - xn[i]\n",
    "        a1 = -a0 + (2 * (yn[i+1] - yn[i])) / hi\n",
    "        \n",
    "        if x0 <= xn[i+1]:\n",
    "            sol = ((a1 - a0) / (2 * hi)) * (x0 - xn[i]) * (x0 - xn[i]) + a0 * (x0 - xn[i]) + yn[i]\n",
    "            return sol\n",
    "        \n",
    "    return None\n"
   ]
  },
  {
   "cell_type": "code",
   "execution_count": 8,
   "metadata": {},
   "outputs": [
    {
     "name": "stdout",
     "output_type": "stream",
     "text": [
      "15.000000000000526 15.0 15.0\n",
      "14.70199999998266 14.706200304285248 14.702\n",
      "14.41599999998 14.424801217140997 14.416\n",
      "14.153999999968411 14.155802738567242 14.154\n",
      "13.927999999923745 13.894656992139238 13.928\n",
      "13.749999999821862 13.715901367830238 13.75\n",
      "13.631999999638616 13.623758281485413 13.632\n",
      "13.585999999349866 13.460482980303048 13.586\n",
      "13.62399999893147 13.491973565984052 13.624\n",
      "13.757999998359281 13.709316824104365 13.758\n",
      "13.99999999760916 13.897874951520823 14.0\n",
      "14.361999996656962 14.26682722800603 14.362\n",
      "14.855999995478546 14.42713876515767 14.856000000000002\n",
      "15.493999994049766 15.02497576559589 15.494\n",
      "16.28799999234648 16.2565066972751 16.288\n",
      "17.24999999034455 16.422302628607994 17.25\n",
      "18.391999988019826 17.47177973880066 18.392000000000003\n",
      "19.725999985348167 19.404938027853095 19.726000000000003\n",
      "21.263999982305428 20.507536904496277 21.264000000000003\n",
      "23.017999978867472 22.88743879191425 23.018\n",
      "0.2224893062957583\n"
     ]
    }
   ],
   "source": [
    "xn = generare_x(10, a, b)\n",
    "yn = generare_y(xn, f3)\n",
    "Bmm = createBmm(xn, 6)\n",
    "fm = createFm(xn, yn, 6)\n",
    "am = np.linalg.solve(Bmm, fm)\n",
    "\n",
    "\n",
    "\n",
    "suma = 0\n",
    "for elem in np.arange(a, b, 0.1):\n",
    "    suma +=metodaHorner(am, elem, 3)-splinePatratice(xn, yn, elem, f3_derivata(xn[0]))\n",
    "    print(metodaHorner(am, elem, 3), splinePatratice(xn, yn, elem, f3_derivata(xn[0])), f3(elem))\n",
    "print(suma / len( np.arange(a, b, 0.1)))\n",
    "    \n",
    "y0 = metodaHorner(am, 1.5, 3)\n",
    "y0 = splinePatratice(xn, yn, 1.5, f1_derivata(xn[0]))\n",
    "# print(y0)"
   ]
  },
  {
   "cell_type": "code",
   "execution_count": 11,
   "metadata": {
    "scrolled": true
   },
   "outputs": [
    {
     "name": "stdout",
     "output_type": "stream",
     "text": [
      "1\n",
      "5\n",
      "1.1021746421517502e-22\n",
      "0.10361103187350751\n"
     ]
    },
    {
     "data": {
      "image/png": "[encoded data removed]",
      "text/plain": [
       "<Figure size 432x288 with 1 Axes>"
      ]
     },
     "metadata": {
      "needs_background": "light"
     },
     "output_type": "display_data"
    },
    {
     "name": "stdout",
     "output_type": "stream",
     "text": [
      "1.8634935140109884e-05\n"
     ]
    },
    {
     "data": {
      "image/png": "[encoded data removed]",
      "text/plain": [
       "<Figure size 432x288 with 1 Axes>"
      ]
     },
     "metadata": {
      "needs_background": "light"
     },
     "output_type": "display_data"
    },
    {
     "name": "stdout",
     "output_type": "stream",
     "text": [
      "1.5952356033558854\n"
     ]
    },
    {
     "data": {
      "image/png": "[encoded data removed]",
      "text/plain": [
       "<Figure size 432x288 with 1 Axes>"
      ]
     },
     "metadata": {
      "needs_background": "light"
     },
     "output_type": "display_data"
    },
    {
     "name": "stdout",
     "output_type": "stream",
     "text": [
      "1\n",
      "10\n",
      "0\n",
      "1.5\n",
      "0.0299747156356986\n",
      "3.5619391279857845e-08\n"
     ]
    },
    {
     "data": {
      "image/png": "[encoded data removed]",
      "text/plain": [
       "<Figure size 432x288 with 1 Axes>"
      ]
     },
     "metadata": {
      "needs_background": "light"
     },
     "output_type": "display_data"
    },
    {
     "name": "stdout",
     "output_type": "stream",
     "text": [
      "0\n",
      "10\n",
      "1.8492108468831677e-26\n",
      "0.00022561885430098246\n"
     ]
    },
    {
     "data": {
      "image/png": "[encoded data removed]",
      "text/plain": [
       "<Figure size 432x288 with 1 Axes>"
      ]
     },
     "metadata": {
      "needs_background": "light"
     },
     "output_type": "display_data"
    }
   ],
   "source": [
    "import PySimpleGUI as sg\n",
    "import matplotlib.pyplot as plt \n",
    "\n",
    "a = 0\n",
    "b = 0\n",
    "Bmm = None\n",
    "fm = None\n",
    "am = None\n",
    "xn = None\n",
    "yn = None\n",
    "tip = 1\n",
    "m = 3\n",
    "rata = 0.1\n",
    "functii = {1:f1, 2:f2, 3:f3}\n",
    "derivate = {1:f1_derivata, 2:f2_derivata, 3:f3_derivata};\n",
    "\n",
    "layout = [[sg.Text(\"Introduceti nume fisier:\")], \n",
    "           [sg.In(size=(25, 1), enable_events=True, key=\"EPS\")],\n",
    "          [sg.Button(\"CITESTE FISIER\")],\n",
    "          [sg.Button(\"CITESTE TASTATURA\")],\n",
    "    \n",
    "        [sg.Text(\"Numar de puncte\")], \n",
    "           [sg.In(size=(25, 1), enable_events=True, key=\"FIS1\")],\n",
    "          [sg.Button(\"GATA\")],\n",
    "          \n",
    "          [sg.Text(\"Introduceti numerul functiei (1, 2, 3):\")], \n",
    "           [sg.In(size=(25, 1), enable_events=True, key=\"F\")],\n",
    "          \n",
    "\n",
    "          [sg.Button(\"Genereaza vector x\")],\n",
    "           [sg.Button(\"Genereaza vector y\")],\n",
    "          \n",
    "          [sg.Text(\"Introduceti m:\")], \n",
    "           [sg.In(size=(25, 1), enable_events=True, key=\"M\")],\n",
    "          [sg.Button(\"GATA m\")],\n",
    "          \n",
    "          [sg.Button(\"Calculeaza B\")],\n",
    "          [sg.Button(\"Calculeaza f\")],\n",
    "          \n",
    "          [sg.Button(\"Calculeaza coeficienti polinom\")],\n",
    "           [sg.Text(size=(50, 1), key=\"A\")],\n",
    "          \n",
    "          [sg.Text(\"Introduceti rata testarii:\")], \n",
    "           [sg.In(size=(25, 1), enable_events=True, key=\"RATA\")],\n",
    "          \n",
    "          \n",
    "          [sg.Button(\"Calculeaza eroare Horner\")],\n",
    "           [sg.Text(size=(40, 1), key=\"EROARE\")],\n",
    "          \n",
    "          [sg.Button(\"Calculeaza eroare spline patratice\")],\n",
    "           [sg.Text(size=(40, 1), key=\"EROARE2\")],\n",
    "          \n",
    "          [sg.Button(\"Deseneaza grafice\")],\n",
    "           \n",
    "          [sg.Button(\"EXIT\")]\n",
    "         ]\n",
    "window = sg.Window(\"Calcul numeric - Laborator 3\", layout)\n",
    "\n",
    "while True:\n",
    "    event, values = window.read()\n",
    "    \n",
    "    \n",
    "    if event == \"EXIT\":\n",
    "        break\n",
    "    elif event == \"CITESTE FISIER\":\n",
    "        a, b = citire_fisier(values[\"EPS\"])\n",
    "        \n",
    "    elif event == \"CITESTE TASTATURA\":\n",
    "        a, b = citire_tastatura()\n",
    "        \n",
    "    elif event == \"GATA\":\n",
    "        n = int(values[\"FIS1\"])\n",
    "        \n",
    "    elif event == \"Introduceti numerul functiei (1, 2, 3):\":\n",
    "        tip = int(values[\"F\"])\n",
    "        \n",
    "    elif event == \"Genereaza vector x\":\n",
    "        xn = generare_x(n, a, b)\n",
    "        \n",
    "    elif event == \"Genereaza vector y\":\n",
    "        yn = generare_y(xn, functii[tip])\n",
    "            \n",
    "    elif event == \"GATA m\":\n",
    "        m = int(values[\"M\"])\n",
    "        \n",
    "    elif event == \"Calculeaza B\":\n",
    "        Bmm = createBmm(xn, m)\n",
    "    elif event == \"Calculeaza f\":    \n",
    "        fm = createFm(xn, yn, m)\n",
    "        \n",
    "    elif event == \"Calculeaza coeficienti polinom\":   \n",
    "        am = np.linalg.solve(Bmm, fm)\n",
    "#         print(am)\n",
    "        window[\"A\"].update(np.flip(am))\n",
    "        \n",
    "    elif event == \"Calculeaza eroare Horner\":\n",
    "        rata = float(values[\"RATA\"])\n",
    "        suma = 0\n",
    "        for elem in np.arange(a, b, rata):\n",
    "            err = abs(metodaHorner(am, elem, m)-functii[tip](elem))\n",
    "            suma += err*err\n",
    "        print(suma / len( np.arange(a, b, rata)))\n",
    "        \n",
    "        window[\"EROARE\"].update(suma / len( np.arange(a, b, rata)))\n",
    "        \n",
    "    elif event == \"Calculeaza eroare spline patratice\":\n",
    "        rata = float(values[\"RATA\"])\n",
    "        suma = 0\n",
    "        for elem in np.arange(a, b, rata):\n",
    "            err = abs(splinePatratice(xn, yn, elem, derivate[tip](elem))-functii[tip](elem))\n",
    "            suma += err*err\n",
    "        print(suma / len( np.arange(a, b, rata)))\n",
    "        \n",
    "        window[\"EROARE2\"].update(suma / len( np.arange(a, b, rata)))\n",
    "    \n",
    "    elif event == \"Deseneaza grafice\":\n",
    "        x = np.arange(a, b, rata) \n",
    "        y = np.array(list(map(functii[tip], x)))\n",
    "\n",
    "        y1 = np.array([metodaHorner(am, elem, m) for elem in x])\n",
    "        plt.plot(x, y1, label='Metoda Horner') \n",
    "        y2 = np.array([splinePatratice(xn, yn, elem, derivate[tip](elem)) for elem in x])\n",
    "        plt.plot(x, y2, label='Spline patratice') \n",
    "        \n",
    "        plt.plot(x, y,  label='Functia reala') \n",
    "        plt.legend()\n",
    "        plt.show() \n",
    "        \n",
    "    \n",
    "\n",
    "window.close()"
   ]
  },
  {
   "cell_type": "code",
   "execution_count": null,
   "metadata": {},
   "outputs": [],
   "source": []
  },
  {
   "cell_type": "code",
   "execution_count": 10,
   "metadata": {},
   "outputs": [],
   "source": [
    "# x = np.arange(a, b, rata) \n",
    "# y = np.array(list(map(functii[tip], x)))\n",
    "\n",
    "# plt.plot(x, y) \n",
    "# y = np.array([metodaHorner(am, elem, m) for elem in x])\n",
    "# plt.plot(x, y) \n",
    "# y = np.array([splinePatratice(xn, yn, elem, derivate[tip](elem)) for elem in x])\n",
    "# plt.plot(x, y) \n",
    "# plt.show() "
   ]
  },
  {
   "cell_type": "code",
   "execution_count": null,
   "metadata": {},
   "outputs": [],
   "source": []
  }
 ],
 "metadata": {
  "kernelspec": {
   "display_name": "Python 3",
   "language": "python",
   "name": "python3"
  },
  "language_info": {
   "codemirror_mode": {
    "name": "ipython",
    "version": 3
   },
   "file_extension": ".py",
   "mimetype": "text/x-python",
   "name": "python",
   "nbconvert_exporter": "python",
   "pygments_lexer": "ipython3",
   "version": "3.7.9"
  }
 },
 "nbformat": 4,
 "nbformat_minor": 5
}
