{
 "cells": [
  {
   "cell_type": "markdown",
   "metadata": {},
   "source": [
    "# Ex1"
   ]
  },
  {
   "cell_type": "code",
   "execution_count": 1,
   "metadata": {},
   "outputs": [],
   "source": [
    "def get_machine_epsilon():\n",
    "    u = 1\n",
    "    m = 0\n",
    "    while (1.0 + u != 1.0):\n",
    "        u /= 10\n",
    "        m += 1\n",
    "\n",
    "    u *= 10\n",
    "    return u, m-1"
   ]
  },
  {
   "cell_type": "code",
   "execution_count": 2,
   "metadata": {},
   "outputs": [
    {
     "name": "stdout",
     "output_type": "stream",
     "text": [
      "1e-15 15\n"
     ]
    }
   ],
   "source": [
    "u, m = get_machine_epsilon()\n",
    "print(u, m)"
   ]
  },
  {
   "cell_type": "markdown",
   "metadata": {},
   "source": [
    "# Ex2"
   ]
  },
  {
   "cell_type": "code",
   "execution_count": 3,
   "metadata": {},
   "outputs": [],
   "source": [
    "def is_associative_addition():\n",
    "    a = 1.0\n",
    "    u,_ = get_machine_epsilon()\n",
    "    b = u/10\n",
    "    c = u/10\n",
    "    \n",
    "    if a + (b + c) != (a + b) + c:\n",
    "        return False\n",
    "    else:\n",
    "        return True"
   ]
  },
  {
   "cell_type": "code",
   "execution_count": 4,
   "metadata": {},
   "outputs": [
    {
     "data": {
      "text/plain": [
       "False"
      ]
     },
     "execution_count": 4,
     "metadata": {},
     "output_type": "execute_result"
    }
   ],
   "source": [
    "is_associative_addition()"
   ]
  },
  {
   "cell_type": "code",
   "execution_count": 5,
   "metadata": {},
   "outputs": [
    {
     "name": "stdout",
     "output_type": "stream",
     "text": [
      "a =  0.8824673703990775\n",
      "b =  0.5434601467404055\n",
      "c =  0.33127669888916844\n",
      "(a*b)*c =  0.1588756160991606\n",
      "a*(b*c) =  0.15887561609916062\n"
     ]
    }
   ],
   "source": [
    "import random\n",
    "a = random.uniform(0,1)\n",
    "b = random.uniform(0,1)\n",
    "c = random.uniform(0,1)\n",
    "while (a*b)*c == a*(b*c):\n",
    "    a = random.uniform(0,1)\n",
    "    b = random.uniform(0,1)\n",
    "    c = random.uniform(0,1)\n",
    "print(\"a = \", a)\n",
    "print(\"b = \", b)\n",
    "print(\"c = \", c)\n",
    "print(\"(a*b)*c = \", (a*b)*c)\n",
    "print(\"a*(b*c) = \", a*(b*c))"
   ]
  },
  {
   "cell_type": "markdown",
   "metadata": {},
   "source": [
    "# Ex3"
   ]
  },
  {
   "cell_type": "code",
   "execution_count": 10,
   "metadata": {},
   "outputs": [],
   "source": [
    "import numpy as np\n",
    "import random\n",
    "import time\n",
    "\n",
    "infinite = 1.6331239e+16\n",
    "\n",
    "def next_a(a, x):\n",
    "    eps = 0.0000001\n",
    "    if a >= -1-eps and a <= -1+eps:\n",
    "        return x\n",
    "    else:\n",
    "        return -x*x\n",
    "    \n",
    "def next_b(b):\n",
    "    eps = 0.0000001\n",
    "    if b >= -1-eps and b <= -1+eps:\n",
    "        return 0\n",
    "    elif b >= 0 and b <= eps:\n",
    "        return 1\n",
    "    else:\n",
    "        return b+2\n",
    "    \n",
    "def aprox_tan_method1(x, epsilon):\n",
    "    corect= np.tan(x)\n",
    "    u, m = get_machine_epsilon()\n",
    "    x = x % np.pi\n",
    "    \n",
    "    if x > np.pi/2:\n",
    "        x -= np.pi\n",
    "        \n",
    "    negative_flag = 1\n",
    "    if x >= 0:\n",
    "        if abs(np.pi/2 - x) <= u:\n",
    "            return infinite\n",
    "    else:\n",
    "        if abs(np.pi/2 - (-x)) <= u:\n",
    "            return -infinite\n",
    "        x = -x\n",
    "        negative_flag = -1\n",
    "        \n",
    "    corect2 = np.tan(x) * negative_flag\n",
    "    small_value = 10 ** (-12)\n",
    "    aproximation = next_b(-1)\n",
    "    \n",
    "    if abs(aproximation) < u:\n",
    "        aproximation = small_value\n",
    "#     print(abs(corect-corect2))\n",
    "    c = aproximation\n",
    "    d = 0\n",
    "    delta = 1000\n",
    "    b = next_b(aproximation)\n",
    "    a = next_a(-1, x,)\n",
    "    while(abs(delta-1) >= epsilon):\n",
    "        d = b + a*d\n",
    "        if abs(d) < u:\n",
    "            d = small_value\n",
    "        c = b + a/c\n",
    "        if abs(c) < u:\n",
    "            c = small_value\n",
    "        d = 1/d\n",
    "        delta = c*d\n",
    "        aproximation = delta*aproximation\n",
    "        a = next_a(a, x)\n",
    "        b = next_b(b)\n",
    "    return aproximation * negative_flag\n",
    "\n",
    "def aprox_tan_method2(x):\n",
    "    u, m = get_machine_epsilon()\n",
    "    x = x % np.pi\n",
    "    \n",
    "    if x > np.pi/2:\n",
    "        x -= np.pi\n",
    "        \n",
    "    if x >= 0:\n",
    "        if abs(np.pi/2 - x) <= u:\n",
    "            return infinite\n",
    "    else:\n",
    "        if abs(np.pi/2 - (-x)) <= u:\n",
    "            return -infinite\n",
    "    negative_flag = 1\n",
    "    if x < 0:\n",
    "        x = -x\n",
    "        negative_flag = -1\n",
    "#     x = x % np.pi\n",
    "#     print(x)\n",
    "    if x > np.pi/4:\n",
    "        return (1/aprox_tan_method2(np.pi/2 - x)) * negative_flag\n",
    "        \n",
    "    c1=0.33333333333333333\n",
    "    c2=0.133333333333333333\n",
    "    c3=0.053968253968254\n",
    "    c4=0.0218694885361552\n",
    "    return (x + c1*(x**3) + c2*(x**5) + c3*(x**7) + c4*(x**9)) * negative_flag\n",
    "\n",
    "def aprox_tan_method2_ineficient(x):\n",
    "    u, m = get_machine_epsilon()\n",
    "    negative_flag = 1\n",
    "    x = x % np.pi\n",
    "    \n",
    "    if x > np.pi/2:\n",
    "        x -= np.pi\n",
    "    if x < -np.pi/2:\n",
    "        x += np.pi\n",
    "        \n",
    "    if x < 0:\n",
    "        x = -x\n",
    "        negative_flag = -1\n",
    "        \n",
    "    if x >= 0:\n",
    "        if abs(np.pi/2 - x) <= u:\n",
    "            return infinite\n",
    "    else:\n",
    "        if abs(np.pi/2 - (-x)) <= u:\n",
    "            return -infinite\n",
    "\n",
    "        \n",
    "    c1 = 0.33333333333333333\n",
    "    c2=0.133333333333333333\n",
    "    c3=0.053968253968254\n",
    "    c4=0.0218694885361552\n",
    "    return (x + c1*(x**3) + c2*(x**5) + c3*(x**7) + c4*(x**9)) * negative_flag\n"
   ]
  },
  {
   "cell_type": "code",
   "execution_count": 9,
   "metadata": {},
   "outputs": [
    {
     "name": "stdout",
     "output_type": "stream",
     "text": [
      "AVERAGE ERROR METHOD 1:  4.655891760495012e-10\n",
      "AVERAGE ERROR METHOD 2:  7.418554303080634e-05\n",
      "AVERAGE ERROR METHOD 2 - UNOPTIMIZED VERSION:  3.579784597504749\n",
      "AVERAGE TIME ELAPSED METHOD 1:  1.4449691772460938e-05 s\n",
      "AVERAGE TIME ELAPSED METHOD 2:  4.296016693115234e-06 s\n"
     ]
    }
   ],
   "source": [
    "sum_error_method1 = 0\n",
    "sum_error_method2 = 0\n",
    "sum_error_method2_inef = 0\n",
    "sum_time_method1 = 0\n",
    "sum_time_method2 = 0\n",
    "for i in range(0, 10000):\n",
    "#     x = random.uniform(-np.pi/2, np.pi/2)\n",
    "    x = random.uniform(-10000, 1000)\n",
    "\n",
    "    correct_value = np.tan(x)\n",
    "    \n",
    "    start_time = time.time()\n",
    "    method1_value = aprox_tan_method1(x, 0.00000001)\n",
    "    method1_time = time.time() - start_time\n",
    "    \n",
    "    start_time = time.time()\n",
    "    method2_value = aprox_tan_method2(x)\n",
    "    method2_time = time.time() - start_time\n",
    "    \n",
    "    method2_inef_value = aprox_tan_method2_ineficient(x)\n",
    "#     print(abs(correct_value - method1_value), x)\n",
    "    sum_error_method1 += abs(correct_value - method1_value)\n",
    "    sum_error_method2 += abs(correct_value - method2_value)\n",
    "    sum_error_method2_inef += abs(correct_value - method2_inef_value)\n",
    "    sum_time_method1 += method1_time\n",
    "    sum_time_method2 += method2_time\n",
    "    \n",
    "print('AVERAGE ERROR METHOD 1: ', sum_error_method1/10000)\n",
    "print('AVERAGE ERROR METHOD 2: ', sum_error_method2/10000)\n",
    "print('AVERAGE ERROR METHOD 2 - UNOPTIMIZED VERSION: ', sum_error_method2_inef/10000)\n",
    "print('AVERAGE TIME ELAPSED METHOD 1: ', sum_time_method1/10000, \"s\")\n",
    "print('AVERAGE TIME ELAPSED METHOD 2: ', sum_time_method2/10000, \"s\")\n",
    "\n",
    "    \n"
   ]
  },
  {
   "cell_type": "code",
   "execution_count": 11,
   "metadata": {},
   "outputs": [
    {
     "name": "stdout",
     "output_type": "stream",
     "text": [
      "1.6331239e+16\n",
      "1.6331239e+16\n",
      "\n",
      "1.6331239e+16\n",
      "1.6331239e+16\n"
     ]
    }
   ],
   "source": [
    "print(aprox_tan_method1(np.pi/2, 0.000001))\n",
    "print(aprox_tan_method1(-np.pi/2, 0.000001))\n",
    "print('')\n",
    "print(aprox_tan_method2(np.pi/2))\n",
    "print(aprox_tan_method2(-np.pi/2))"
   ]
  },
  {
   "cell_type": "code",
   "execution_count": null,
   "metadata": {},
   "outputs": [],
   "source": []
  },
  {
   "cell_type": "code",
   "execution_count": 9,
   "metadata": {},
   "outputs": [
    {
     "name": "stdout",
     "output_type": "stream",
     "text": [
      "0   30\n",
      "15   30\n",
      "15   22\n",
      "15   18\n",
      "Precizia masina:  1e-15\n"
     ]
    }
   ],
   "source": [
    "def machine_precision_binary_seach():\n",
    "    st = 0\n",
    "    dr = 30\n",
    "    while dr - st > 1:\n",
    "        print(st, ' ', dr)\n",
    "        mij = int((st+dr)/2)\n",
    "        if 1.0 + (10 ** (-mij)) != 1.0:\n",
    "            st = mij\n",
    "        else:\n",
    "            dr = mij\n",
    "    print('Precizia masina: ', 10**(-dr+1))\n",
    "    \n",
    "machine_precision_binary_seach()"
   ]
  },
  {
   "cell_type": "code",
   "execution_count": 10,
   "metadata": {},
   "outputs": [],
   "source": [
    "import PySimpleGUI as sg"
   ]
  },
  {
   "cell_type": "code",
   "execution_count": 11,
   "metadata": {},
   "outputs": [],
   "source": [
    "layout = [[sg.Text(\"Obtine precizia masina\")], \n",
    "          [sg.Button(\"OBTINE\")], \n",
    "          [sg.Text(size=(40, 1), key=\"PRECIZIA MASINA\")], \n",
    "          \n",
    "          [sg.Text(\"Aproximeaza tangenta cu metoda fractiilor continue\")],\n",
    "          [sg.Text(\"Valoare\")],\n",
    "          [sg.In(size=(25, 1), enable_events=True, key=\"TG1\")],\n",
    "          [sg.Text(\"Epsilon\")],\n",
    "          [sg.In(size=(25, 1), enable_events=True, key=\"TG1EPSILON\")],\n",
    "          [sg.Button(\"OBTINE TANGENTA METODA 1\")],\n",
    "          [sg.Text(size=(40, 1), key=\"TG1RESULT\")],\n",
    "          \n",
    "          [sg.Text(\"Aproximeaza tangenta folosind polinoame\")],\n",
    "          [sg.Text(\"Valoare\")],\n",
    "          [sg.In(size=(25, 1), enable_events=True, key=\"TG2\")],\n",
    "#           [sg.Text(\"Epsilon\")],\n",
    "#           [sg.In(size=(25, 1), enable_events=True, key=\"TG2EPSILON\")],\n",
    "          [sg.Button(\"OBTINE TANGENTA METODA 2\")],\n",
    "          [sg.Text(size=(40, 1), key=\"TG2RESULT\")],\n",
    "          \n",
    "          [sg.Button(\"EXIT\")]\n",
    "         ]\n",
    "window = sg.Window(\"Calcul numeric - Laborator 1\", layout)\n",
    "\n",
    "while True:\n",
    "    event, values = window.read()\n",
    "    \n",
    "    if event == \"EXIT\":\n",
    "        break\n",
    "    elif event == \"OBTINE\":\n",
    "        window[\"PRECIZIA MASINA\"].update(get_machine_epsilon()[0])\n",
    "    elif event == \"OBTINE TANGENTA METODA 1\":\n",
    "        window[\"TG1RESULT\"].update(aprox_tan_method1(float(values[\"TG1\"]), float(values[\"TG1EPSILON\"])))\n",
    "    elif event == \"OBTINE TANGENTA METODA 2\":\n",
    "        window[\"TG2RESULT\"].update(aprox_tan_method2(float(values[\"TG2\"])))\n",
    "\n",
    "window.close()"
   ]
  },
  {
   "cell_type": "code",
   "execution_count": null,
   "metadata": {},
   "outputs": [],
   "source": []
  },
  {
   "cell_type": "code",
   "execution_count": null,
   "metadata": {},
   "outputs": [],
   "source": []
  }
 ],
 "metadata": {
  "kernelspec": {
   "display_name": "Python 3",
   "language": "python",
   "name": "python3"
  },
  "language_info": {
   "codemirror_mode": {
    "name": "ipython",
    "version": 3
   },
   "file_extension": ".py",
   "mimetype": "text/x-python",
   "name": "python",
   "nbconvert_exporter": "python",
   "pygments_lexer": "ipython3",
   "version": "3.7.6"
  }
 },
 "nbformat": 4,
 "nbformat_minor": 4
}
