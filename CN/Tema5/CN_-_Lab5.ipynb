{
 "cells": [
  {
   "cell_type": "code",
   "execution_count": 1,
   "metadata": {},
   "outputs": [],
   "source": [
    "import numpy as np\n",
    "import math\n",
    "import copy"
   ]
  },
  {
   "cell_type": "code",
   "execution_count": 152,
   "metadata": {},
   "outputs": [],
   "source": [
    "optimized_flag = False"
   ]
  },
  {
   "cell_type": "code",
   "execution_count": 131,
   "metadata": {},
   "outputs": [],
   "source": [
    "def coord_to_array(a, i, j):\n",
    "    global optimized_flag\n",
    "    \n",
    "    if optimized_flag == False:\n",
    "        return a[i][j]\n",
    "    else:\n",
    "        if j > i:\n",
    "            aux = i\n",
    "            i = j\n",
    "            j = aux\n",
    "        return a[i*(i+1)//2 + j]"
   ]
  },
  {
   "cell_type": "code",
   "execution_count": 162,
   "metadata": {},
   "outputs": [],
   "source": [
    "def set_to_array(a, i, j, val):\n",
    "    global optimized_flag\n",
    "\n",
    "    if optimized_flag == False:\n",
    "        a[i][j] = val\n",
    "        a[j][i] = val\n",
    "    else:\n",
    "        if j > i:\n",
    "            aux = i\n",
    "            i = j\n",
    "            j = aux\n",
    "        a[i*(i+1)//2 + j] = val"
   ]
  },
  {
   "cell_type": "code",
   "execution_count": 133,
   "metadata": {},
   "outputs": [],
   "source": [
    "def coord_to_array_l(l, i, j):\n",
    "    global optimized_flag\n",
    "    if j > i:\n",
    "        return 0\n",
    "    if optimized_flag == False:\n",
    "        return l[i][j]\n",
    "    return l[i*(i+1)//2 + j]"
   ]
  },
  {
   "cell_type": "code",
   "execution_count": 134,
   "metadata": {},
   "outputs": [],
   "source": [
    "def read_input(a, n):\n",
    "    global optimized_flag\n",
    "    file_read = open(\"input.txt\", \"r\")\n",
    "    n = int(file_read.readline())\n",
    "    \n",
    "    if optimized_flag == True:\n",
    "        for i in range(0, n*(n+1)//2):\n",
    "            value = float(file_read.readline())\n",
    "            a = np.append(a, value)\n",
    "    else:\n",
    "        a = np.zeros((n,n))\n",
    "        for i in range(0, n):\n",
    "            for j in range(0, i+1):\n",
    "                value = float(file_read.readline())\n",
    "                set_to_array(a, i, j, value)\n",
    "                set_to_array(a, j, i, value)\n",
    "            \n",
    "    return (a,n)"
   ]
  },
  {
   "cell_type": "code",
   "execution_count": 109,
   "metadata": {},
   "outputs": [],
   "source": [
    "def initialize_u(u, n, length):\n",
    "    for i in range(0, n):\n",
    "        u[i][i] = 1\n",
    "    return u"
   ]
  },
  {
   "cell_type": "code",
   "execution_count": 110,
   "metadata": {},
   "outputs": [],
   "source": [
    "def compute_pq(a, n):\n",
    "    maxim = -1\n",
    "    for i in range(0, n):\n",
    "        for j in range(0, i):\n",
    "            if abs(coord_to_array(a, i,j)) > maxim:\n",
    "                maxim = abs(coord_to_array(a,i,j))\n",
    "                p = i\n",
    "                q = j\n",
    "    return (p,q)"
   ]
  },
  {
   "cell_type": "code",
   "execution_count": 111,
   "metadata": {},
   "outputs": [],
   "source": [
    "def compute_tcs(a, n, p, q):\n",
    "    alfa = (coord_to_array(a,p,p) - coord_to_array(a,q,q))/(2*coord_to_array(a,p,q))\n",
    "    if alfa >= 0:\n",
    "        t = -alfa + math.sqrt(alfa*alfa+1)\n",
    "    else:\n",
    "        t = -alfa - math.sqrt(alfa*alfa+1)\n",
    "    \n",
    "    c = 1 / math.sqrt(1 + t*t)\n",
    "    s = t / math.sqrt(1 + t*t)\n",
    "    \n",
    "    return(t,c,s)"
   ]
  },
  {
   "cell_type": "code",
   "execution_count": 112,
   "metadata": {},
   "outputs": [],
   "source": [
    "def next_matrix_a(a, n, p, q, t, c, s):\n",
    "    a_aux = copy.deepcopy(a)\n",
    "    \n",
    "    for i in range(0, n):\n",
    "        if i != p and i != q:\n",
    "#             if p > i:\n",
    "            set_to_array(a, p, i, c*coord_to_array(a_aux,p,i) + s*coord_to_array(a_aux,q,i))\n",
    "    \n",
    "    for i in range(0, n):\n",
    "        if i != p and i != q:\n",
    "            set_to_array(a, q, i, -s*coord_to_array(a_aux,i,p) + c*coord_to_array(a_aux,q,i))\n",
    "#             if q > i:\n",
    "#                 coord_to_array(a,q,i) = -s*coord_to_array(a_aux,i,p) + c*coord_to_array(a_aux,q,i)\n",
    "#             if i > q:\n",
    "#                 a[coord_to_array(i,q)] = -s*a[coord_to_array(i,p)] + c*a[coord_to_array(q,i)]\n",
    "\n",
    "#     for i in range(0, n):\n",
    "#         if i != p and i != q:\n",
    "#             if i > p:\n",
    "#                 a[coord_to_array(i,p)] = a[coord_to_array(p,i)]\n",
    "            \n",
    "    set_to_array(a, p, p, coord_to_array(a_aux,p,p) + t*coord_to_array(a_aux,p,q))\n",
    "    set_to_array(a, q, q, coord_to_array(a_aux,q,q) - t*coord_to_array(a_aux,p,q))\n",
    "    set_to_array(a, p, q, 0)\n",
    "    set_to_array(a, q, p, 0)\n",
    "\n",
    "    return a"
   ]
  },
  {
   "cell_type": "code",
   "execution_count": 113,
   "metadata": {},
   "outputs": [],
   "source": [
    "def next_matrix_u(u, n, p, q, t, c, s):\n",
    "    for i in range(0, n):\n",
    "        uip_vechi = copy.deepcopy(u[i][p])\n",
    "        u[i][p] = c * u[i][p] + s * u[i][q]\n",
    "        u[i][q] = -s * uip_vechi + c * u[i][q]\n",
    "    return u"
   ]
  },
  {
   "cell_type": "code",
   "execution_count": 114,
   "metadata": {},
   "outputs": [],
   "source": [
    "def get_error(a_init, n, vp, u):\n",
    "\n",
    "    error = 0\n",
    "    au = np.zeros((n,n))\n",
    "    uvp = np.zeros((n,n))\n",
    "    \n",
    "    for i in range(0,n):\n",
    "        for j in range(0,n):\n",
    "            value = 0\n",
    "            for t in range(0,n):\n",
    "                au[j][i] += coord_to_array(a_init,j,t) * u[t][i]\n",
    "\n",
    "    for i in range(0, n):\n",
    "        for j in range(0, n):\n",
    "            uvp[i][j] = u[i][j] * vp[j]\n",
    "            \n",
    "    for i in range(0,n):\n",
    "        for j in range(0,n):\n",
    "            error += abs(au[i][j] - uvp[i][j])\n",
    "    error = math.sqrt(error)\n",
    "    print(\"ERROR: \", error)"
   ]
  },
  {
   "cell_type": "code",
   "execution_count": 166,
   "metadata": {},
   "outputs": [
    {
     "name": "stdout",
     "output_type": "stream",
     "text": [
      "ERROR:  0.00027283259983755336\n",
      "[ 2.69838866  0.52621324 32.0878981 ]\n"
     ]
    }
   ],
   "source": [
    "def get_valori_proprii():\n",
    "    global optimized_flag\n",
    "    n = -1\n",
    "    k = 0\n",
    "    kmax = 1000\n",
    "    epsilon = 10 ** (-8)\n",
    "    \n",
    "    a = np.array([])\n",
    "    (a,n) = read_input(a,n)\n",
    "    u = np.zeros((n,n))\n",
    "    a_init = copy.deepcopy(a)\n",
    "    length = len(a)\n",
    "    u = initialize_u(u, n, length)\n",
    "    (p,q) = compute_pq(a,n)\n",
    "    (t,c,s) = compute_tcs(a,n,p,q)\n",
    "    \n",
    "    while abs(coord_to_array(a,p,q)) > epsilon and k<kmax:\n",
    "        a = next_matrix_a(a, n, p, q, t, c, s)\n",
    "        u = next_matrix_u(u, n, p, q, t, c, s)\n",
    "        (p,q) = compute_pq(a,n)\n",
    "        (t,c,s) = compute_tcs(a,n,p,q)\n",
    "        \n",
    "        k = k+1\n",
    "\n",
    "#         valori_proprii = np.array([])\n",
    "#         for i in range(0, n):\n",
    "#             valori_proprii = np.append(valori_proprii, a[coord_to_array(i,i)])\n",
    "#         print(valori_proprii)\n",
    "\n",
    "    valori_proprii = np.array([])\n",
    "    for i in range(0, n):\n",
    "        valori_proprii = np.append(valori_proprii, coord_to_array(a,i,i))\n",
    "    \n",
    "    get_error(a_init, n, valori_proprii, u)\n",
    "    \n",
    "    return (a, a_init, u, valori_proprii)\n",
    "\n",
    "(a, a_init, u, vp) = get_valori_proprii()\n",
    "print(vp)\n",
    "\n"
   ]
  },
  {
   "cell_type": "code",
   "execution_count": 170,
   "metadata": {},
   "outputs": [
    {
     "data": {
      "text/plain": [
       "array([32.0878981 ,  2.69838866,  0.52621324])"
      ]
     },
     "execution_count": 170,
     "metadata": {},
     "output_type": "execute_result"
    }
   ],
   "source": [
    "def cerinta2():\n",
    "    k = 0\n",
    "    n = -1\n",
    "    kmax = 1000\n",
    "    epsilon = 10 ** (-12)\n",
    "    a = np.array([])\n",
    "    (a,n) = read_input(a,n)\n",
    "    \n",
    "    l = compute_l(a, n)\n",
    "    a_next = product_l(l,n)\n",
    "    \n",
    "    while(compare_a(a, a_next, n) > epsilon and k < kmax):\n",
    "        a = a_next\n",
    "        l = compute_l(a, n)\n",
    "        a_next = product_l(l,n)\n",
    "        k += 1\n",
    "        \n",
    "        \n",
    "    vp = np.array([])\n",
    "    for i in range(0, n):\n",
    "        vp = np.append(vp, coord_to_array(a_next, i, i))\n",
    "        \n",
    "    return vp\n",
    "    \n",
    "cerinta2()\n",
    "    "
   ]
  },
  {
   "cell_type": "code",
   "execution_count": 142,
   "metadata": {},
   "outputs": [],
   "source": [
    "def compute_l(a, n):\n",
    "    global optimized_flag\n",
    "    \n",
    "    if optimized_flag == True:\n",
    "        l = np.array([])\n",
    "        for i in range(0, int(n*(n+1)/2)):\n",
    "            l = np.append(l, 0)\n",
    "    else:\n",
    "        l = np.zeros((n,n))\n",
    "        \n",
    "    for i in range(0, n):\n",
    "        compute_l_column_p(i, l, a, n)\n",
    "        \n",
    "    return l"
   ]
  },
  {
   "cell_type": "code",
   "execution_count": 143,
   "metadata": {},
   "outputs": [],
   "source": [
    "def compute_l_column_p(column, l, a, n):    \n",
    "    suma = 0\n",
    "    for i in range(0, column):\n",
    "        suma += coord_to_array_l(l,column,i) * coord_to_array_l(l,column,i)\n",
    "    if coord_to_array(a,column,column) - suma <= 0:\n",
    "        print('MATRICEA NU ESTE POZITIV DEFINITA!')\n",
    "\n",
    "    val = math.sqrt(coord_to_array(a,column,column) - suma)\n",
    "    set_to_array(l, column, column, val)\n",
    "    \n",
    "    \n",
    "    for i in range(column+1, n):\n",
    "        suma = 0\n",
    "        for j in range(0, column):\n",
    "            suma += coord_to_array_l(l,i,j) * coord_to_array_l(l,column, j)\n",
    "            \n",
    "        val = coord_to_array(a,i,column) - suma\n",
    "        val = val / coord_to_array_l(l,column,column)\n",
    "        set_to_array(l, i, column, val)\n"
   ]
  },
  {
   "cell_type": "code",
   "execution_count": 144,
   "metadata": {},
   "outputs": [],
   "source": [
    "def product_l(l,n):\n",
    "    global optimized_flag\n",
    "    \n",
    "    if optimized_flag == True:\n",
    "        new_a = np.array([])\n",
    "        for i in range(0, int(n*(n+1)/2)):\n",
    "            new_a = np.append(new_a, 0)\n",
    "    else:\n",
    "        new_a = np.zeros((n,n))\n",
    "        \n",
    "    for i in range(0,n):\n",
    "        for j in range(0,i+1):\n",
    "            suma = 0\n",
    "            for t in range(0,n):\n",
    "                suma += coord_to_array_l(l,t,j) * coord_to_array_l(l,t,i)\n",
    "            set_to_array(new_a, j, i, copy.deepcopy(suma))\n",
    "                \n",
    "    return new_a"
   ]
  },
  {
   "cell_type": "code",
   "execution_count": 145,
   "metadata": {},
   "outputs": [],
   "source": [
    "def compare_a(a1, a2, n):\n",
    "    error = 0\n",
    "    for i in range(0,n):\n",
    "        for j in range(0,n):\n",
    "            error += abs(coord_to_array(a1,i,j) - coord_to_array(a2,i,j))\n",
    "    return math.sqrt(error)"
   ]
  },
  {
   "cell_type": "code",
   "execution_count": 173,
   "metadata": {},
   "outputs": [
    {
     "data": {
      "text/plain": [
       "array([32.0878981 ,  2.69838866,  0.52621324])"
      ]
     },
     "execution_count": 173,
     "metadata": {},
     "output_type": "execute_result"
    }
   ],
   "source": [
    "def get_valori_singulare():\n",
    "    epsilon = 10 ** (-12)\n",
    "    n = -1\n",
    "    a = np.array([])\n",
    "    (a,n) = read_input(a,n)\n",
    "    \n",
    "    (u, s, v) = np.linalg.svd(a)\n",
    "    return s\n",
    "    \n",
    "    \n",
    "get_valori_singulare()"
   ]
  },
  {
   "cell_type": "code",
   "execution_count": 174,
   "metadata": {},
   "outputs": [
    {
     "data": {
      "text/plain": [
       "3"
      ]
     },
     "execution_count": 174,
     "metadata": {},
     "output_type": "execute_result"
    }
   ],
   "source": [
    "def get_rang_numpy():\n",
    "    n = -1\n",
    "    a = np.array([])\n",
    "    (a,n) = read_input(a,n)\n",
    "    return np.linalg.matrix_rank(a)\n",
    "\n",
    "get_rang_numpy()"
   ]
  },
  {
   "cell_type": "code",
   "execution_count": 175,
   "metadata": {},
   "outputs": [
    {
     "data": {
      "text/plain": [
       "3"
      ]
     },
     "execution_count": 175,
     "metadata": {},
     "output_type": "execute_result"
    }
   ],
   "source": [
    "def get_rang_formula():\n",
    "    n = -1\n",
    "    a = np.array([])\n",
    "    (a,n) = read_input(a,n)\n",
    "    (u, s, v) = np.linalg.svd(a)\n",
    "    count = 0\n",
    "    for i in range(0, n):\n",
    "        if s[i] > 0:\n",
    "            count += 1\n",
    "    return count\n",
    "\n",
    "get_rang_formula()"
   ]
  },
  {
   "cell_type": "code",
   "execution_count": 177,
   "metadata": {},
   "outputs": [
    {
     "data": {
      "text/plain": [
       "60.97888744877879"
      ]
     },
     "execution_count": 177,
     "metadata": {},
     "output_type": "execute_result"
    }
   ],
   "source": [
    "def get_numar_conditionare_numpy():\n",
    "    n = -1\n",
    "    a = np.array([])\n",
    "    (a,n) = read_input(a,n)\n",
    "    return np.linalg.cond(a)\n",
    "\n",
    "get_numar_conditionare_numpy()"
   ]
  },
  {
   "cell_type": "code",
   "execution_count": 179,
   "metadata": {},
   "outputs": [
    {
     "data": {
      "text/plain": [
       "60.97888744877878"
      ]
     },
     "execution_count": 179,
     "metadata": {},
     "output_type": "execute_result"
    }
   ],
   "source": [
    "def get_numar_conditionare_formula():\n",
    "    n = -1\n",
    "    a = np.array([])\n",
    "    (a,n) = read_input(a,n)\n",
    "    (u, s, v) = np.linalg.svd(a)\n",
    "    \n",
    "    maxim = -1\n",
    "    minim = 999999999\n",
    "    for i in range(0,n):\n",
    "        if s[i] > maxim:\n",
    "            maxim = s[i]\n",
    "        if s[i] < minim and s[i] > 0:\n",
    "            minim = s[i]\n",
    "            \n",
    "    return maxim/minim\n",
    "\n",
    "get_numar_conditionare_formula()"
   ]
  },
  {
   "cell_type": "code",
   "execution_count": 202,
   "metadata": {},
   "outputs": [
    {
     "data": {
      "text/plain": [
       "array([[ 1.06447188, -0.72427984,  0.25925926],\n",
       "       [-0.72427984,  0.98765432, -0.44444444],\n",
       "       [ 0.25925926, -0.44444444,  0.25      ]])"
      ]
     },
     "execution_count": 202,
     "metadata": {},
     "output_type": "execute_result"
    }
   ],
   "source": [
    "def moore_penrose():\n",
    "    epsilon = 10 ** (-8)\n",
    "    n = -1\n",
    "    a = np.array([])\n",
    "    (a,n) = read_input(a,n)\n",
    "    (u, s, v) = np.linalg.svd(a)\n",
    "    for i in range(0, n):\n",
    "        if abs(s[i]) > epsilon:\n",
    "            s[i] = 1 / s[i]\n",
    "            \n",
    "    sinv = np.zeros((n,n))\n",
    "    for i in range(0, n):\n",
    "        sinv[i][i] = s[i]\n",
    "    \n",
    "    return v.T.dot(sinv).dot(u.T)\n",
    "\n",
    "moore_penrose()"
   ]
  },
  {
   "cell_type": "code",
   "execution_count": 183,
   "metadata": {},
   "outputs": [
    {
     "data": {
      "text/plain": [
       "array([[ 1.06447188, -0.72427984,  0.25925926],\n",
       "       [-0.72427984,  0.98765432, -0.44444444],\n",
       "       [ 0.25925926, -0.44444444,  0.25      ]])"
      ]
     },
     "execution_count": 183,
     "metadata": {},
     "output_type": "execute_result"
    }
   ],
   "source": [
    "def moore_penrose2():\n",
    "    n = -1\n",
    "    a = np.array([])\n",
    "    (a,n) = read_input(a,n)\n",
    "    \n",
    "    result = copy.deepcopy(np.transpose(a))\n",
    "    result = np.dot(result, a)\n",
    "    result = np.linalg.inv(result)\n",
    "    result = np.dot(result, np.transpose(a))\n",
    "    return result\n",
    "\n",
    "moore_penrose2()"
   ]
  },
  {
   "cell_type": "code",
   "execution_count": 203,
   "metadata": {},
   "outputs": [
    {
     "data": {
      "text/plain": [
       "4.622963684048823e-07"
      ]
     },
     "execution_count": 203,
     "metadata": {},
     "output_type": "execute_result"
    }
   ],
   "source": [
    "def compare_inverses():\n",
    "    n = -1\n",
    "    a = np.array([])\n",
    "    (a,n) = read_input(a,n)\n",
    "    matrix1 = moore_penrose()\n",
    "    matrix2 = moore_penrose2()\n",
    "    error = 0\n",
    "    \n",
    "    for i in range(0, n):\n",
    "        for j in range(0, n):\n",
    "            error += abs(matrix1[i][j] - matrix2[i][j])\n",
    "    \n",
    "    return math.sqrt(error)\n",
    "\n",
    "compare_inverses()"
   ]
  },
  {
   "cell_type": "code",
   "execution_count": null,
   "metadata": {},
   "outputs": [],
   "source": []
  }
 ],
 "metadata": {
  "kernelspec": {
   "display_name": "Python 3",
   "language": "python",
   "name": "python3"
  },
  "language_info": {
   "codemirror_mode": {
    "name": "ipython",
    "version": 3
   },
   "file_extension": ".py",
   "mimetype": "text/x-python",
   "name": "python",
   "nbconvert_exporter": "python",
   "pygments_lexer": "ipython3",
   "version": "3.7.6"
  }
 },
 "nbformat": 4,
 "nbformat_minor": 4
}
